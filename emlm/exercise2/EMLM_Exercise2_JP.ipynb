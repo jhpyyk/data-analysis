{
 "cells": [
  {
   "attachments": {},
   "cell_type": "markdown",
   "metadata": {},
   "source": [
    "Juuso Pyykkönen <br>\n",
    "522060 <br>\n",
    "February, 8th, 2023  <br>"
   ]
  },
  {
   "cell_type": "markdown",
   "metadata": {},
   "source": [
    "# Exercise 2 | TKO_7092 Evaluation of Machine Learning Methods 2023"
   ]
  },
  {
   "cell_type": "markdown",
   "metadata": {},
   "source": [
    "### Prediction of the metal ion content from multi-parameter data\n",
    "##### Use K-Nearest Neighbor Regression with euclidean distance to predict total metal concentration (c_total), concentration of Cadmium (Cd) and concentration of Lead (Pb), for each sample using number of neighbors k = 3.<br> \n",
    "\n",
    "    - You may use Nearest Neighbor Regression from https://scikit-learn.org/stable/modules/neighbors.html\n",
    "    - The data should be standarized using z-score. (Using sklearn.preprocessing.StandardScaler is allowed)\n",
    "    - Implement your own Leave-One-Out cross-validation and calculate the C-index for each output (c_total, Cd, Pb). \n",
    "    - Implement your own Leave-Replicas-Out cross-validation and calculate the C-index for each output (c_total, Cd, Pb).\n",
    "    - Return your solution as a Jupyter Notebook .ipynb notebook and as a PDF-file made from it.\n",
    "    - Submit to moodle your solution on ** Wednesday 8 of February ** at the latest."
   ]
  },
  {
   "cell_type": "markdown",
   "metadata": {},
   "source": [
    "## Import libraries"
   ]
  },
  {
   "cell_type": "code",
   "execution_count": 27,
   "metadata": {},
   "outputs": [],
   "source": [
    "#In this cell import all libraries you need. For example: \n",
    "import numpy as np\n",
    "import pandas as pd\n",
    "import matplotlib.pyplot as plt\n",
    "from sklearn.preprocessing import StandardScaler\n",
    "from sklearn.neighbors import KNeighborsRegressor\n",
    "import itertools"
   ]
  },
  {
   "cell_type": "markdown",
   "metadata": {},
   "source": [
    "## Read and visualize the dataset"
   ]
  },
  {
   "cell_type": "code",
   "execution_count": 28,
   "metadata": {},
   "outputs": [
    {
     "name": "stdout",
     "output_type": "stream",
     "text": [
      "Dimensions of the dataset: 225 rows and 6 columns\n",
      "Number of NaN values:  0\n",
      "First 5 rows:\n"
     ]
    },
    {
     "data": {
      "text/html": [
       "<div>\n",
       "<style scoped>\n",
       "    .dataframe tbody tr th:only-of-type {\n",
       "        vertical-align: middle;\n",
       "    }\n",
       "\n",
       "    .dataframe tbody tr th {\n",
       "        vertical-align: top;\n",
       "    }\n",
       "\n",
       "    .dataframe thead th {\n",
       "        text-align: right;\n",
       "    }\n",
       "</style>\n",
       "<table border=\"1\" class=\"dataframe\">\n",
       "  <thead>\n",
       "    <tr style=\"text-align: right;\">\n",
       "      <th></th>\n",
       "      <th>c_total</th>\n",
       "      <th>Cd</th>\n",
       "      <th>Pb</th>\n",
       "      <th>Mod1</th>\n",
       "      <th>Mod2</th>\n",
       "      <th>Mod3</th>\n",
       "    </tr>\n",
       "  </thead>\n",
       "  <tbody>\n",
       "    <tr>\n",
       "      <th>0</th>\n",
       "      <td>0</td>\n",
       "      <td>0.0</td>\n",
       "      <td>0.0</td>\n",
       "      <td>9945</td>\n",
       "      <td>119</td>\n",
       "      <td>72335</td>\n",
       "    </tr>\n",
       "    <tr>\n",
       "      <th>1</th>\n",
       "      <td>0</td>\n",
       "      <td>0.0</td>\n",
       "      <td>0.0</td>\n",
       "      <td>10786</td>\n",
       "      <td>117</td>\n",
       "      <td>82977</td>\n",
       "    </tr>\n",
       "    <tr>\n",
       "      <th>2</th>\n",
       "      <td>0</td>\n",
       "      <td>0.0</td>\n",
       "      <td>0.0</td>\n",
       "      <td>10812</td>\n",
       "      <td>120</td>\n",
       "      <td>98594</td>\n",
       "    </tr>\n",
       "    <tr>\n",
       "      <th>3</th>\n",
       "      <td>14</td>\n",
       "      <td>0.0</td>\n",
       "      <td>14.0</td>\n",
       "      <td>9742</td>\n",
       "      <td>127</td>\n",
       "      <td>154323</td>\n",
       "    </tr>\n",
       "    <tr>\n",
       "      <th>4</th>\n",
       "      <td>14</td>\n",
       "      <td>0.0</td>\n",
       "      <td>14.0</td>\n",
       "      <td>8495</td>\n",
       "      <td>120</td>\n",
       "      <td>131672</td>\n",
       "    </tr>\n",
       "  </tbody>\n",
       "</table>\n",
       "</div>"
      ],
      "text/plain": [
       "   c_total   Cd    Pb   Mod1  Mod2    Mod3\n",
       "0        0  0.0   0.0   9945   119   72335\n",
       "1        0  0.0   0.0  10786   117   82977\n",
       "2        0  0.0   0.0  10812   120   98594\n",
       "3       14  0.0  14.0   9742   127  154323\n",
       "4       14  0.0  14.0   8495   120  131672"
      ]
     },
     "execution_count": 28,
     "metadata": {},
     "output_type": "execute_result"
    }
   ],
   "source": [
    "#In this cell read the file Water_data.csv\n",
    "#Print the dataset dimesions (i.e. number of rows and columns)\n",
    "#Print the first 5 rows of the dataset\n",
    "\n",
    "water_data = pd.read_csv('Water_data.csv', header=0, sep=',')\n",
    "print('Dimensions of the dataset: {} rows and {} columns'.format(water_data.shape[0], water_data.shape[1]))\n",
    "# From https://sparkbyexamples.com/pandas/count-nan-values-in-pandas/\n",
    "print('Number of NaN values: ', water_data.isna().sum().sum())\n",
    "print('First 5 rows:')\n",
    "water_data.head()"
   ]
  },
  {
   "cell_type": "markdown",
   "metadata": {},
   "source": [
    "#### To show understanding of the data, answer the following questions:\n",
    "- How many different mixtures of Cadmium (Cd) and Lead (Pb) were measured? <br>\n",
    "- How many total concentrations (c_total) were measured? <br>\n",
    "- How many mixtures have less than 4 replicas? <br>\n",
    "- Make plots of Lead (Pb) and Cadmium (Cd) mixtures for low and high concentrations. <br>\n",
    "Where low concentrations are those with c_total <= 100, while in high concentration c_total > 100.<br>\n",
    "Hint: plots are similar to the ones presented in the video lecture.  "
   ]
  },
  {
   "cell_type": "code",
   "execution_count": 29,
   "metadata": {},
   "outputs": [
    {
     "name": "stdout",
     "output_type": "stream",
     "text": [
      "The number of different mixtures of Cadmium (Cd) and Lead (Pb) that were measured:  67\n",
      "The number of total concentrations (c_total) that were measured:  12\n",
      "The number of mixtures with less than 4 replicas:  43\n"
     ]
    },
    {
     "data": {
      "text/plain": [
       "Text(0, 0.5, 'Lead')"
      ]
     },
     "execution_count": 29,
     "metadata": {},
     "output_type": "execute_result"
    },
    {
     "data": {
      "image/png": "[encoded data removed]",
      "text/plain": [
       "<Figure size 1000x500 with 2 Axes>"
      ]
     },
     "metadata": {},
     "output_type": "display_data"
    }
   ],
   "source": [
    "#In this cell write the code to answer the previous questions and print the answers.\n",
    "\n",
    "mixtures = water_data.value_counts(subset=['Cd', 'Pb'])\n",
    "print('The number of different mixtures of Cadmium (Cd) and Lead (Pb) that were measured: ', mixtures.count())\n",
    "\n",
    "total_concentrations_count = water_data.value_counts(subset=['c_total']).count()\n",
    "print('The number of total concentrations (c_total) that were measured: ', total_concentrations_count)\n",
    "\n",
    "mix_lt4_replicas = mixtures.loc[mixtures < 4]\n",
    "print('The number of mixtures with less than 4 replicas: ', mix_lt4_replicas.count())\n",
    "\n",
    "low_conc = water_data.loc[water_data['c_total'] <= 100]\n",
    "high_conc = water_data.loc[water_data['c_total'] > 100]\n",
    "\n",
    "conc_plot, (low_conc_ax, high_conc_ax) = plt.subplots(1,2, figsize=(10,5))\n",
    "conc_plot.suptitle('Concentrations of Cadmium and Lead in the measured data')\n",
    "low_conc_ax.scatter(x=low_conc['Cd'], y=low_conc['Pb'])\n",
    "low_conc_ax.set_title('Low concentration')\n",
    "low_conc_ax.set_xlabel('Cadmium')\n",
    "low_conc_ax.set_ylabel('Lead')\n",
    "high_conc_ax.scatter(x=high_conc['Cd'], y=high_conc['Pb'])\n",
    "high_conc_ax.set_title('High concentration')\n",
    "high_conc_ax.set_xlabel('Cadmium')\n",
    "high_conc_ax.set_ylabel('Lead')"
   ]
  },
  {
   "cell_type": "markdown",
   "metadata": {},
   "source": [
    "## Standardization of the dataset"
   ]
  },
  {
   "cell_type": "code",
   "execution_count": 30,
   "metadata": {},
   "outputs": [
    {
     "data": {
      "text/html": [
       "<div>\n",
       "<style scoped>\n",
       "    .dataframe tbody tr th:only-of-type {\n",
       "        vertical-align: middle;\n",
       "    }\n",
       "\n",
       "    .dataframe tbody tr th {\n",
       "        vertical-align: top;\n",
       "    }\n",
       "\n",
       "    .dataframe thead th {\n",
       "        text-align: right;\n",
       "    }\n",
       "</style>\n",
       "<table border=\"1\" class=\"dataframe\">\n",
       "  <thead>\n",
       "    <tr style=\"text-align: right;\">\n",
       "      <th></th>\n",
       "      <th>c_total</th>\n",
       "      <th>Cd</th>\n",
       "      <th>Pb</th>\n",
       "      <th>Mod1</th>\n",
       "      <th>Mod2</th>\n",
       "      <th>Mod3</th>\n",
       "    </tr>\n",
       "  </thead>\n",
       "  <tbody>\n",
       "    <tr>\n",
       "      <th>0</th>\n",
       "      <td>0</td>\n",
       "      <td>0.0</td>\n",
       "      <td>0.0</td>\n",
       "      <td>-0.999216</td>\n",
       "      <td>-0.714208</td>\n",
       "      <td>-0.414911</td>\n",
       "    </tr>\n",
       "    <tr>\n",
       "      <th>1</th>\n",
       "      <td>0</td>\n",
       "      <td>0.0</td>\n",
       "      <td>0.0</td>\n",
       "      <td>-0.990800</td>\n",
       "      <td>-0.714373</td>\n",
       "      <td>-0.238335</td>\n",
       "    </tr>\n",
       "    <tr>\n",
       "      <th>2</th>\n",
       "      <td>0</td>\n",
       "      <td>0.0</td>\n",
       "      <td>0.0</td>\n",
       "      <td>-0.990539</td>\n",
       "      <td>-0.714125</td>\n",
       "      <td>0.020788</td>\n",
       "    </tr>\n",
       "    <tr>\n",
       "      <th>3</th>\n",
       "      <td>14</td>\n",
       "      <td>0.0</td>\n",
       "      <td>14.0</td>\n",
       "      <td>-1.001247</td>\n",
       "      <td>-0.713546</td>\n",
       "      <td>0.945465</td>\n",
       "    </tr>\n",
       "    <tr>\n",
       "      <th>4</th>\n",
       "      <td>14</td>\n",
       "      <td>0.0</td>\n",
       "      <td>14.0</td>\n",
       "      <td>-1.013727</td>\n",
       "      <td>-0.714125</td>\n",
       "      <td>0.569631</td>\n",
       "    </tr>\n",
       "  </tbody>\n",
       "</table>\n",
       "</div>"
      ],
      "text/plain": [
       "   c_total   Cd    Pb      Mod1      Mod2      Mod3\n",
       "0        0  0.0   0.0 -0.999216 -0.714208 -0.414911\n",
       "1        0  0.0   0.0 -0.990800 -0.714373 -0.238335\n",
       "2        0  0.0   0.0 -0.990539 -0.714125  0.020788\n",
       "3       14  0.0  14.0 -1.001247 -0.713546  0.945465\n",
       "4       14  0.0  14.0 -1.013727 -0.714125  0.569631"
      ]
     },
     "execution_count": 30,
     "metadata": {},
     "output_type": "execute_result"
    }
   ],
   "source": [
    "#In this cell standardize the dataset features by removing the mean and scaling to unit variance. \n",
    "#In other words, use z-score to scale the dataset features (Mod1, Mod2, Mod3) \n",
    "#Print the 5 first samples (i.e. rows) of the scaled dataset\n",
    "\n",
    "std_scaler = StandardScaler()\n",
    "water_data_scaled = water_data.copy()\n",
    "# From https://stackoverflow.com/questions/24645153/pandas-dataframe-columns-scaling-with-sklearn\n",
    "water_data_scaled[['Mod1', 'Mod2', 'Mod3']] = std_scaler.fit_transform(water_data_scaled[['Mod1', 'Mod2', 'Mod3']])\n",
    "water_data_scaled.head()"
   ]
  },
  {
   "cell_type": "markdown",
   "metadata": {},
   "source": [
    "## C-index code "
   ]
  },
  {
   "cell_type": "code",
   "execution_count": 31,
   "metadata": {},
   "outputs": [],
   "source": [
    "def cindex(y, yp):\n",
    "    n = 0\n",
    "    h_num = 0 \n",
    "    for i in range(0, len(y)):\n",
    "        t = y[i]\n",
    "        p = yp[i]\n",
    "        for j in range(i+1, len(y)):\n",
    "            nt = y[j]\n",
    "            np = yp[j]\n",
    "            if (t != nt): \n",
    "                n = n + 1\n",
    "                if (p < np and t < nt) or (p > np and t > nt): \n",
    "                    h_num += 1\n",
    "                elif (p == np):\n",
    "                    h_num += 0.5\n",
    "    return h_num/n"
   ]
  },
  {
   "cell_type": "markdown",
   "metadata": {},
   "source": [
    "## Functions"
   ]
  },
  {
   "cell_type": "markdown",
   "metadata": {},
   "source": [
    "Include here all the functions that you need to run in the data analysis part.<br>\n",
    "**Note:** using a leave-one-out and leave-replicas-out cross-validation from an already made package (e.g. Scikit-learn) is not accepted."
   ]
  },
  {
   "cell_type": "code",
   "execution_count": 32,
   "metadata": {},
   "outputs": [],
   "source": [
    "# Leave-one-out cross validation\n",
    "def loocv(X, y, kneigh):\n",
    "\n",
    "    true_y = []\n",
    "    pred_y = []\n",
    "\n",
    "    for test_index in range(len(X)):\n",
    "        # Set leave-one-out train index\n",
    "        train_index = list(range(0, len(X)))\n",
    "        del train_index[test_index]\n",
    "\n",
    "        # Fit a model and predict\n",
    "        kneigh.fit(X[train_index], y[train_index])\n",
    "        pred = kneigh.predict(X[test_index].reshape(1,-1))\n",
    "\n",
    "        # Append prediction and true label\n",
    "        true_y.append(y[test_index])\n",
    "        pred_y.append(pred)\n",
    "\n",
    "    return true_y, pred_y\n",
    "\n",
    "# https://stackoverflow.com/questions/952914/how-do-i-make-a-flat-list-out-of-a-list-of-lists\n",
    "def flatten_array(arr):\n",
    "    arr = list(itertools.chain.from_iterable(arr))\n",
    "    return arr\n",
    "\n",
    "# Leave-replicas-out cross validation\n",
    "def lrocv(X, y, groups, kneigh):\n",
    "\n",
    "    true_y = []\n",
    "    pred_y = []\n",
    "\n",
    "    for test_group in groups:\n",
    "        # Set leave-replica-out train index\n",
    "        train_index = flatten_array(groups)\n",
    "        \n",
    "        for i in test_group:\n",
    "            train_index.remove(i)\n",
    "\n",
    "        # Fit a model and predict\n",
    "        kneigh.fit(X[train_index], y[train_index])\n",
    "        pred = kneigh.predict(X[test_group]) #.reshape(1,-1))\n",
    "\n",
    "        # Append prediction and true label\n",
    "        true_y.extend(y[test_group])\n",
    "        pred_y.extend(pred)\n",
    "\n",
    "    return true_y, pred_y"
   ]
  },
  {
   "cell_type": "markdown",
   "metadata": {},
   "source": [
    "## Results for Leave-One-Out cross-validation"
   ]
  },
  {
   "cell_type": "code",
   "execution_count": 33,
   "metadata": {},
   "outputs": [
    {
     "name": "stdout",
     "output_type": "stream",
     "text": [
      "C-index for total concentration:  0.9141907740422205\n",
      "C-index for total cadmium (Cd):  0.8995907629348144\n",
      "C-index for total lead (Pb):  0.8744519146448407\n"
     ]
    }
   ],
   "source": [
    "#In this cell run your script for Leave-One-Out cross-validation and print the corresponding results.\n",
    "\n",
    "kneighbors = KNeighborsRegressor(n_neighbors=3)\n",
    "\n",
    "# Calculate C-inex for each output\n",
    "loo_true_labels_c_total, loo_predictions_c_total = loocv(water_data_scaled[['Mod1', 'Mod2', 'Mod3']].to_numpy(), water_data_scaled['c_total'].to_numpy(), kneighbors)\n",
    "loo_c_ind_c_total = cindex(loo_true_labels_c_total, loo_predictions_c_total)\n",
    "\n",
    "loo_true_labels_cd, loo_predictions_cd = loocv(water_data_scaled[['Mod1', 'Mod2', 'Mod3']].to_numpy(), water_data_scaled['Cd'].to_numpy(), kneighbors)\n",
    "loo_c_ind_cd = cindex(loo_true_labels_cd, loo_predictions_cd)\n",
    "\n",
    "loo_true_labels_pb, loo_predictions_pb = loocv(water_data_scaled[['Mod1', 'Mod2', 'Mod3']].to_numpy(), water_data_scaled['Pb'].to_numpy(), kneighbors)\n",
    "loo_c_ind_pb = cindex(loo_true_labels_pb, loo_predictions_pb)\n",
    "\n",
    "print('C-index for total concentration: ', loo_c_ind_c_total)\n",
    "print('C-index for total cadmium (Cd): ', loo_c_ind_cd)\n",
    "print('C-index for total lead (Pb): ', loo_c_ind_pb)"
   ]
  },
  {
   "cell_type": "markdown",
   "metadata": {},
   "source": [
    "## Results for Leave-Replicas-Out cross-validation"
   ]
  },
  {
   "cell_type": "code",
   "execution_count": 34,
   "metadata": {},
   "outputs": [
    {
     "name": "stdout",
     "output_type": "stream",
     "text": [
      "C-index for total concentration:  0.8186734427938493\n",
      "C-index for total cadmium (Cd):  0.7614523739925669\n",
      "C-index for total lead (Pb):  0.7689480937069362\n"
     ]
    }
   ],
   "source": [
    "#In this cell run your script for Leave-Replicas-Out cross-validation and print the corresponding results.\n",
    "\n",
    "grouped = water_data_scaled.groupby(['Cd', 'Pb'])\n",
    "group_indices = []\n",
    "# There must be a better way to do this\n",
    "for i in grouped.groups:\n",
    "    group_indices.append(grouped.groups[i].tolist())\n",
    "\n",
    "kneighbors = KNeighborsRegressor(n_neighbors=3)\n",
    "\n",
    "# Calculate C-inex for each output\n",
    "lro_true_labels_c_total, lro_predictions_c_total = lrocv(water_data_scaled[['Mod1', 'Mod2', 'Mod3']].to_numpy(),\n",
    "                                                         water_data_scaled['c_total'].to_numpy(),\n",
    "                                                         group_indices,\n",
    "                                                         kneighbors)\n",
    "                                                         \n",
    "lro_c_ind_c_total = cindex(lro_true_labels_c_total, lro_predictions_c_total)\n",
    "\n",
    "lro_true_labels_cd, lro_predictions_cd = lrocv(water_data_scaled[['Mod1', 'Mod2', 'Mod3']].to_numpy(),\n",
    "                                               water_data_scaled['Cd'].to_numpy(),\n",
    "                                               group_indices,\n",
    "                                               kneighbors)\n",
    "\n",
    "lro_c_ind_cd = cindex(lro_true_labels_cd, lro_predictions_cd)\n",
    "\n",
    "lro_true_labels_pb, lro_predictions_pb = lrocv(water_data_scaled[['Mod1', 'Mod2', 'Mod3']].to_numpy(),\n",
    "                                               water_data_scaled['Pb'].to_numpy(),\n",
    "                                               group_indices,\n",
    "                                               kneighbors)\n",
    "\n",
    "lro_c_ind_pb = cindex(lro_true_labels_pb, lro_predictions_pb)\n",
    "\n",
    "print('C-index for total concentration: ', lro_c_ind_c_total)\n",
    "print('C-index for total cadmium (Cd): ', lro_c_ind_cd)\n",
    "print('C-index for total lead (Pb): ', lro_c_ind_pb)"
   ]
  },
  {
   "cell_type": "markdown",
   "metadata": {},
   "source": [
    "## Interpretation of results\n",
    "#### Answer the following questions based on the results obtained\n",
    "- Which cross-validation approach had more optimistic results?\n",
    "- Which cross-validation generalize better on unseen data? Why?"
   ]
  },
  {
   "attachments": {},
   "cell_type": "markdown",
   "metadata": {},
   "source": [
    "Leave-one-out cross validation had a more optimistic result because it learned the expected values from the rows with the same concentrations of cadmium and lead.\n",
    "\n",
    "Leave-replicate-out cross validation generalizes better because it didn't learn the expected values from the rows with the same concentrations of cadmium and lead."
   ]
  }
 ],
 "metadata": {
  "kernelspec": {
   "display_name": "Python 3",
   "language": "python",
   "name": "python3"
  },
  "language_info": {
   "codemirror_mode": {
    "name": "ipython",
    "version": 3
   },
   "file_extension": ".py",
   "mimetype": "text/x-python",
   "name": "python",
   "nbconvert_exporter": "python",
   "pygments_lexer": "ipython3",
   "version": "3.10.9"
  },
  "toc": {
   "base_numbering": 1,
   "nav_menu": {},
   "number_sections": false,
   "sideBar": true,
   "skip_h1_title": false,
   "title_cell": "Table of Contents",
   "title_sidebar": "Contents",
   "toc_cell": false,
   "toc_position": {},
   "toc_section_display": true,
   "toc_window_display": true
  },
  "varInspector": {
   "cols": {
    "lenName": 16,
    "lenType": 16,
    "lenVar": 40
   },
   "kernels_config": {
    "python": {
     "delete_cmd_postfix": "",
     "delete_cmd_prefix": "del ",
     "library": "var_list.py",
     "varRefreshCmd": "print(var_dic_list())"
    },
    "r": {
     "delete_cmd_postfix": ") ",
     "delete_cmd_prefix": "rm(",
     "library": "var_list.r",
     "varRefreshCmd": "cat(var_dic_list()) "
    }
   },
   "types_to_exclude": [
    "module",
    "function",
    "builtin_function_or_method",
    "instance",
    "_Feature"
   ],
   "window_display": false
  },
  "vscode": {
   "interpreter": {
    "hash": "e7370f93d1d0cde622a1f8e1c04877d8463912d04d973331ad4851f04de6915a"
   }
  }
 },
 "nbformat": 4,
 "nbformat_minor": 4
}
