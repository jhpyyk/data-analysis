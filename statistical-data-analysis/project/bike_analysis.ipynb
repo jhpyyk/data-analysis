{
 "cells": [
  {
   "cell_type": "markdown",
   "metadata": {},
   "source": [
    "# Analysis of electric bike rental data\n",
    "#### *TKO_7093 project work*"
   ]
  },
  {
   "cell_type": "markdown",
   "metadata": {},
   "source": [
    "## Preparing the data"
   ]
  },
  {
   "cell_type": "code",
   "execution_count": 277,
   "metadata": {},
   "outputs": [],
   "source": [
    "import numpy as np\n",
    "import pandas as pd"
   ]
  },
  {
   "cell_type": "markdown",
   "metadata": {},
   "source": [
    "### Loading the data and checking that it is correctly loaded."
   ]
  },
  {
   "cell_type": "code",
   "execution_count": 278,
   "metadata": {},
   "outputs": [
    {
     "data": {
      "text/html": [
       "<div>\n",
       "<style scoped>\n",
       "    .dataframe tbody tr th:only-of-type {\n",
       "        vertical-align: middle;\n",
       "    }\n",
       "\n",
       "    .dataframe tbody tr th {\n",
       "        vertical-align: top;\n",
       "    }\n",
       "\n",
       "    .dataframe thead th {\n",
       "        text-align: right;\n",
       "    }\n",
       "</style>\n",
       "<table border=\"1\" class=\"dataframe\">\n",
       "  <thead>\n",
       "    <tr style=\"text-align: right;\">\n",
       "      <th></th>\n",
       "      <th>ticket</th>\n",
       "      <th>cost</th>\n",
       "      <th>month</th>\n",
       "      <th>location_from</th>\n",
       "      <th>location_to</th>\n",
       "      <th>duration</th>\n",
       "      <th>distance</th>\n",
       "      <th>assistance</th>\n",
       "      <th>energy_used</th>\n",
       "      <th>energy_collected</th>\n",
       "    </tr>\n",
       "  </thead>\n",
       "  <tbody>\n",
       "    <tr>\n",
       "      <th>0</th>\n",
       "      <td>season</td>\n",
       "      <td>0.00</td>\n",
       "      <td>7</td>\n",
       "      <td>TEATTERI</td>\n",
       "      <td>TEATTERI</td>\n",
       "      <td>3</td>\n",
       "      <td>0</td>\n",
       "      <td>0</td>\n",
       "      <td>0.0</td>\n",
       "      <td>0.0</td>\n",
       "    </tr>\n",
       "    <tr>\n",
       "      <th>1</th>\n",
       "      <td>single</td>\n",
       "      <td>0.35</td>\n",
       "      <td>7</td>\n",
       "      <td>TORI</td>\n",
       "      <td>TEATTERI</td>\n",
       "      <td>416</td>\n",
       "      <td>820</td>\n",
       "      <td>1</td>\n",
       "      <td>7.5</td>\n",
       "      <td>0.6</td>\n",
       "    </tr>\n",
       "    <tr>\n",
       "      <th>2</th>\n",
       "      <td>season</td>\n",
       "      <td>0.00</td>\n",
       "      <td>8</td>\n",
       "      <td>TORI</td>\n",
       "      <td>SATAMA</td>\n",
       "      <td>721</td>\n",
       "      <td>1230</td>\n",
       "      <td>0</td>\n",
       "      <td>0.0</td>\n",
       "      <td>2.1</td>\n",
       "    </tr>\n",
       "    <tr>\n",
       "      <th>3</th>\n",
       "      <td>single</td>\n",
       "      <td>0.25</td>\n",
       "      <td>5</td>\n",
       "      <td>TEATTERI</td>\n",
       "      <td>TORI</td>\n",
       "      <td>261</td>\n",
       "      <td>720</td>\n",
       "      <td>0</td>\n",
       "      <td>0.0</td>\n",
       "      <td>1.2</td>\n",
       "    </tr>\n",
       "    <tr>\n",
       "      <th>4</th>\n",
       "      <td>season</td>\n",
       "      <td>0.00</td>\n",
       "      <td>5</td>\n",
       "      <td>TEATTERI</td>\n",
       "      <td>TORI</td>\n",
       "      <td>382</td>\n",
       "      <td>710</td>\n",
       "      <td>1</td>\n",
       "      <td>3.3</td>\n",
       "      <td>0.9</td>\n",
       "    </tr>\n",
       "    <tr>\n",
       "      <th>...</th>\n",
       "      <td>...</td>\n",
       "      <td>...</td>\n",
       "      <td>...</td>\n",
       "      <td>...</td>\n",
       "      <td>...</td>\n",
       "      <td>...</td>\n",
       "      <td>...</td>\n",
       "      <td>...</td>\n",
       "      <td>...</td>\n",
       "      <td>...</td>\n",
       "    </tr>\n",
       "    <tr>\n",
       "      <th>1995</th>\n",
       "      <td>single</td>\n",
       "      <td>0.40</td>\n",
       "      <td>8</td>\n",
       "      <td>KYS</td>\n",
       "      <td>TORI</td>\n",
       "      <td>420</td>\n",
       "      <td>1940</td>\n",
       "      <td>1</td>\n",
       "      <td>10.3</td>\n",
       "      <td>6.0</td>\n",
       "    </tr>\n",
       "    <tr>\n",
       "      <th>1996</th>\n",
       "      <td>single</td>\n",
       "      <td>0.65</td>\n",
       "      <td>7</td>\n",
       "      <td>VÄINÖLÄNNIEMI</td>\n",
       "      <td>SATAMA</td>\n",
       "      <td>720</td>\n",
       "      <td>1020</td>\n",
       "      <td>0</td>\n",
       "      <td>0.0</td>\n",
       "      <td>0.0</td>\n",
       "    </tr>\n",
       "    <tr>\n",
       "      <th>1997</th>\n",
       "      <td>single</td>\n",
       "      <td>0.15</td>\n",
       "      <td>9</td>\n",
       "      <td>TORI</td>\n",
       "      <td>TEATTERI</td>\n",
       "      <td>172</td>\n",
       "      <td>730</td>\n",
       "      <td>1</td>\n",
       "      <td>6.6</td>\n",
       "      <td>0.3</td>\n",
       "    </tr>\n",
       "    <tr>\n",
       "      <th>1998</th>\n",
       "      <td>season</td>\n",
       "      <td>0.00</td>\n",
       "      <td>7</td>\n",
       "      <td>SNELLMANIA</td>\n",
       "      <td>MICROTEKNIA</td>\n",
       "      <td>211</td>\n",
       "      <td>450</td>\n",
       "      <td>0</td>\n",
       "      <td>0.0</td>\n",
       "      <td>0.3</td>\n",
       "    </tr>\n",
       "    <tr>\n",
       "      <th>1999</th>\n",
       "      <td>single</td>\n",
       "      <td>1.00</td>\n",
       "      <td>5</td>\n",
       "      <td>TEATTERI</td>\n",
       "      <td>TORI</td>\n",
       "      <td>1166</td>\n",
       "      <td>680</td>\n",
       "      <td>1</td>\n",
       "      <td>3.4</td>\n",
       "      <td>2.4</td>\n",
       "    </tr>\n",
       "  </tbody>\n",
       "</table>\n",
       "<p>2000 rows × 10 columns</p>\n",
       "</div>"
      ],
      "text/plain": [
       "      ticket  cost  month  location_from  location_to  duration  distance  \\\n",
       "0     season  0.00      7       TEATTERI     TEATTERI         3         0   \n",
       "1     single  0.35      7           TORI     TEATTERI       416       820   \n",
       "2     season  0.00      8           TORI       SATAMA       721      1230   \n",
       "3     single  0.25      5       TEATTERI         TORI       261       720   \n",
       "4     season  0.00      5       TEATTERI         TORI       382       710   \n",
       "...      ...   ...    ...            ...          ...       ...       ...   \n",
       "1995  single  0.40      8            KYS         TORI       420      1940   \n",
       "1996  single  0.65      7  VÄINÖLÄNNIEMI       SATAMA       720      1020   \n",
       "1997  single  0.15      9           TORI     TEATTERI       172       730   \n",
       "1998  season  0.00      7     SNELLMANIA  MICROTEKNIA       211       450   \n",
       "1999  single  1.00      5       TEATTERI         TORI      1166       680   \n",
       "\n",
       "      assistance  energy_used  energy_collected  \n",
       "0              0          0.0               0.0  \n",
       "1              1          7.5               0.6  \n",
       "2              0          0.0               2.1  \n",
       "3              0          0.0               1.2  \n",
       "4              1          3.3               0.9  \n",
       "...          ...          ...               ...  \n",
       "1995           1         10.3               6.0  \n",
       "1996           0          0.0               0.0  \n",
       "1997           1          6.6               0.3  \n",
       "1998           0          0.0               0.3  \n",
       "1999           1          3.4               2.4  \n",
       "\n",
       "[2000 rows x 10 columns]"
      ]
     },
     "execution_count": 278,
     "metadata": {},
     "output_type": "execute_result"
    }
   ],
   "source": [
    "bike_data = pd.read_csv('bikes.data', header=0)\n",
    "bike_data"
   ]
  },
  {
   "cell_type": "code",
   "execution_count": 279,
   "metadata": {},
   "outputs": [
    {
     "name": "stdout",
     "output_type": "stream",
     "text": [
      "<class 'pandas.core.frame.DataFrame'>\n",
      "RangeIndex: 2000 entries, 0 to 1999\n",
      "Data columns (total 10 columns):\n",
      " #   Column            Non-Null Count  Dtype  \n",
      "---  ------            --------------  -----  \n",
      " 0   ticket            2000 non-null   object \n",
      " 1   cost              2000 non-null   float64\n",
      " 2   month             2000 non-null   int64  \n",
      " 3   location_from     2000 non-null   object \n",
      " 4   location_to       2000 non-null   object \n",
      " 5   duration          2000 non-null   int64  \n",
      " 6   distance          2000 non-null   int64  \n",
      " 7   assistance        2000 non-null   int64  \n",
      " 8   energy_used       2000 non-null   float64\n",
      " 9   energy_collected  2000 non-null   float64\n",
      "dtypes: float64(3), int64(4), object(3)\n",
      "memory usage: 156.4+ KB\n"
     ]
    }
   ],
   "source": [
    "bike_data.info()"
   ]
  },
  {
   "cell_type": "markdown",
   "metadata": {},
   "source": [
    "No null values in the data."
   ]
  },
  {
   "cell_type": "markdown",
   "metadata": {},
   "source": [
    "### Descriptions of variables."
   ]
  },
  {
   "cell_type": "code",
   "execution_count": 280,
   "metadata": {},
   "outputs": [
    {
     "data": {
      "text/html": [
       "<style type=\"text/css\">\n",
       "</style>\n",
       "<table id=\"T_72df0\">\n",
       "  <thead>\n",
       "    <tr>\n",
       "      <th class=\"blank level0\" >&nbsp;</th>\n",
       "      <th id=\"T_72df0_level0_col0\" class=\"col_heading level0 col0\" >Variable</th>\n",
       "      <th id=\"T_72df0_level0_col1\" class=\"col_heading level0 col1\" >Description</th>\n",
       "      <th id=\"T_72df0_level0_col2\" class=\"col_heading level0 col2\" >Variable type</th>\n",
       "    </tr>\n",
       "  </thead>\n",
       "  <tbody>\n",
       "    <tr>\n",
       "      <th id=\"T_72df0_level0_row0\" class=\"row_heading level0 row0\" >0</th>\n",
       "      <td id=\"T_72df0_row0_col0\" class=\"data row0 col0\" >ticket</td>\n",
       "      <td id=\"T_72df0_row0_col1\" class=\"data row0 col1\" >ticket type</td>\n",
       "      <td id=\"T_72df0_row0_col2\" class=\"data row0 col2\" >categorical</td>\n",
       "    </tr>\n",
       "    <tr>\n",
       "      <th id=\"T_72df0_level0_row1\" class=\"row_heading level0 row1\" >1</th>\n",
       "      <td id=\"T_72df0_row1_col0\" class=\"data row1 col0\" >cost</td>\n",
       "      <td id=\"T_72df0_row1_col1\" class=\"data row1 col1\" >paid fee in euros</td>\n",
       "      <td id=\"T_72df0_row1_col2\" class=\"data row1 col2\" >quantitative</td>\n",
       "    </tr>\n",
       "    <tr>\n",
       "      <th id=\"T_72df0_level0_row2\" class=\"row_heading level0 row2\" >2</th>\n",
       "      <td id=\"T_72df0_row2_col0\" class=\"data row2 col0\" >month</td>\n",
       "      <td id=\"T_72df0_row2_col1\" class=\"data row2 col1\" >calendar month during which the trip was made</td>\n",
       "      <td id=\"T_72df0_row2_col2\" class=\"data row2 col2\" >categorical</td>\n",
       "    </tr>\n",
       "    <tr>\n",
       "      <th id=\"T_72df0_level0_row3\" class=\"row_heading level0 row3\" >3</th>\n",
       "      <td id=\"T_72df0_row3_col0\" class=\"data row3 col0\" >location_from</td>\n",
       "      <td id=\"T_72df0_row3_col1\" class=\"data row3 col1\" >start location of the trip</td>\n",
       "      <td id=\"T_72df0_row3_col2\" class=\"data row3 col2\" >categorical</td>\n",
       "    </tr>\n",
       "    <tr>\n",
       "      <th id=\"T_72df0_level0_row4\" class=\"row_heading level0 row4\" >4</th>\n",
       "      <td id=\"T_72df0_row4_col0\" class=\"data row4 col0\" >location_to</td>\n",
       "      <td id=\"T_72df0_row4_col1\" class=\"data row4 col1\" >end location of the trip</td>\n",
       "      <td id=\"T_72df0_row4_col2\" class=\"data row4 col2\" >categorical</td>\n",
       "    </tr>\n",
       "    <tr>\n",
       "      <th id=\"T_72df0_level0_row5\" class=\"row_heading level0 row5\" >5</th>\n",
       "      <td id=\"T_72df0_row5_col0\" class=\"data row5 col0\" >duration</td>\n",
       "      <td id=\"T_72df0_row5_col1\" class=\"data row5 col1\" >travel time in seconds</td>\n",
       "      <td id=\"T_72df0_row5_col2\" class=\"data row5 col2\" >quantitative</td>\n",
       "    </tr>\n",
       "    <tr>\n",
       "      <th id=\"T_72df0_level0_row6\" class=\"row_heading level0 row6\" >6</th>\n",
       "      <td id=\"T_72df0_row6_col0\" class=\"data row6 col0\" >distance</td>\n",
       "      <td id=\"T_72df0_row6_col1\" class=\"data row6 col1\" >travel distance in meters</td>\n",
       "      <td id=\"T_72df0_row6_col2\" class=\"data row6 col2\" >quantitative</td>\n",
       "    </tr>\n",
       "    <tr>\n",
       "      <th id=\"T_72df0_level0_row7\" class=\"row_heading level0 row7\" >7</th>\n",
       "      <td id=\"T_72df0_row7_col0\" class=\"data row7 col0\" >assistance</td>\n",
       "      <td id=\"T_72df0_row7_col1\" class=\"data row7 col1\" >status of electric assistance (0 = disabled, 1 = enabled)</td>\n",
       "      <td id=\"T_72df0_row7_col2\" class=\"data row7 col2\" >categorical</td>\n",
       "    </tr>\n",
       "    <tr>\n",
       "      <th id=\"T_72df0_level0_row8\" class=\"row_heading level0 row8\" >8</th>\n",
       "      <td id=\"T_72df0_row8_col0\" class=\"data row8 col0\" >energy_used</td>\n",
       "      <td id=\"T_72df0_row8_col1\" class=\"data row8 col1\" >energy consumed by the bike in watt-hours</td>\n",
       "      <td id=\"T_72df0_row8_col2\" class=\"data row8 col2\" >quantitative</td>\n",
       "    </tr>\n",
       "    <tr>\n",
       "      <th id=\"T_72df0_level0_row9\" class=\"row_heading level0 row9\" >9</th>\n",
       "      <td id=\"T_72df0_row9_col0\" class=\"data row9 col0\" >energy_collected</td>\n",
       "      <td id=\"T_72df0_row9_col1\" class=\"data row9 col1\" >energy collected by the bike in watt-hours</td>\n",
       "      <td id=\"T_72df0_row9_col2\" class=\"data row9 col2\" >quantitative</td>\n",
       "    </tr>\n",
       "  </tbody>\n",
       "</table>\n"
      ],
      "text/plain": [
       "<pandas.io.formats.style.Styler at 0x7f9ae9aa39a0>"
      ]
     },
     "execution_count": 280,
     "metadata": {},
     "output_type": "execute_result"
    }
   ],
   "source": [
    "variable_descriptions = pd.read_csv('bikes_variables.csv', header=0)\n",
    "variable_descriptions.style"
   ]
  },
  {
   "cell_type": "markdown",
   "metadata": {},
   "source": [
    "Change the data type of categorical variables to 'category'."
   ]
  },
  {
   "cell_type": "code",
   "execution_count": 281,
   "metadata": {},
   "outputs": [
    {
     "name": "stdout",
     "output_type": "stream",
     "text": [
      "<class 'pandas.core.frame.DataFrame'>\n",
      "RangeIndex: 2000 entries, 0 to 1999\n",
      "Data columns (total 10 columns):\n",
      " #   Column            Non-Null Count  Dtype   \n",
      "---  ------            --------------  -----   \n",
      " 0   ticket            2000 non-null   category\n",
      " 1   cost              2000 non-null   float64 \n",
      " 2   month             2000 non-null   category\n",
      " 3   location_from     2000 non-null   category\n",
      " 4   location_to       2000 non-null   category\n",
      " 5   duration          2000 non-null   int64   \n",
      " 6   distance          2000 non-null   int64   \n",
      " 7   assistance        2000 non-null   category\n",
      " 8   energy_used       2000 non-null   float64 \n",
      " 9   energy_collected  2000 non-null   float64 \n",
      "dtypes: category(5), float64(3), int64(2)\n",
      "memory usage: 89.4 KB\n"
     ]
    }
   ],
   "source": [
    "categorical = variable_descriptions['Variable'].loc[variable_descriptions['Variable type'] == 'categorical']\n",
    "bike_data[categorical] = bike_data[categorical].astype('category')\n",
    "bike_data.info()"
   ]
  },
  {
   "cell_type": "markdown",
   "metadata": {},
   "source": [
    "### Calculating basic statistics for each variable."
   ]
  },
  {
   "cell_type": "code",
   "execution_count": 282,
   "metadata": {},
   "outputs": [
    {
     "data": {
      "text/html": [
       "<div>\n",
       "<style scoped>\n",
       "    .dataframe tbody tr th:only-of-type {\n",
       "        vertical-align: middle;\n",
       "    }\n",
       "\n",
       "    .dataframe tbody tr th {\n",
       "        vertical-align: top;\n",
       "    }\n",
       "\n",
       "    .dataframe thead th {\n",
       "        text-align: right;\n",
       "    }\n",
       "</style>\n",
       "<table border=\"1\" class=\"dataframe\">\n",
       "  <thead>\n",
       "    <tr style=\"text-align: right;\">\n",
       "      <th></th>\n",
       "      <th>cost</th>\n",
       "      <th>duration</th>\n",
       "      <th>distance</th>\n",
       "      <th>energy_used</th>\n",
       "      <th>energy_collected</th>\n",
       "    </tr>\n",
       "  </thead>\n",
       "  <tbody>\n",
       "    <tr>\n",
       "      <th>count</th>\n",
       "      <td>2000.00000</td>\n",
       "      <td>2000.000000</td>\n",
       "      <td>2000.00000</td>\n",
       "      <td>2000.000000</td>\n",
       "      <td>2000.000000</td>\n",
       "    </tr>\n",
       "    <tr>\n",
       "      <th>mean</th>\n",
       "      <td>0.22345</td>\n",
       "      <td>539.975500</td>\n",
       "      <td>1721.93000</td>\n",
       "      <td>11.761300</td>\n",
       "      <td>4.389300</td>\n",
       "    </tr>\n",
       "    <tr>\n",
       "      <th>std</th>\n",
       "      <td>0.47570</td>\n",
       "      <td>593.810888</td>\n",
       "      <td>2017.79918</td>\n",
       "      <td>15.573439</td>\n",
       "      <td>5.990604</td>\n",
       "    </tr>\n",
       "    <tr>\n",
       "      <th>min</th>\n",
       "      <td>0.00000</td>\n",
       "      <td>1.000000</td>\n",
       "      <td>-3320.00000</td>\n",
       "      <td>0.000000</td>\n",
       "      <td>0.000000</td>\n",
       "    </tr>\n",
       "    <tr>\n",
       "      <th>25%</th>\n",
       "      <td>0.00000</td>\n",
       "      <td>144.750000</td>\n",
       "      <td>40.00000</td>\n",
       "      <td>0.000000</td>\n",
       "      <td>0.000000</td>\n",
       "    </tr>\n",
       "    <tr>\n",
       "      <th>50%</th>\n",
       "      <td>0.00000</td>\n",
       "      <td>400.000000</td>\n",
       "      <td>1130.00000</td>\n",
       "      <td>7.100000</td>\n",
       "      <td>2.400000</td>\n",
       "    </tr>\n",
       "    <tr>\n",
       "      <th>75%</th>\n",
       "      <td>0.30000</td>\n",
       "      <td>736.750000</td>\n",
       "      <td>2572.50000</td>\n",
       "      <td>18.500000</td>\n",
       "      <td>6.900000</td>\n",
       "    </tr>\n",
       "    <tr>\n",
       "      <th>max</th>\n",
       "      <td>6.95000</td>\n",
       "      <td>8292.000000</td>\n",
       "      <td>19740.00000</td>\n",
       "      <td>184.300000</td>\n",
       "      <td>91.500000</td>\n",
       "    </tr>\n",
       "  </tbody>\n",
       "</table>\n",
       "</div>"
      ],
      "text/plain": [
       "             cost     duration     distance  energy_used  energy_collected\n",
       "count  2000.00000  2000.000000   2000.00000  2000.000000       2000.000000\n",
       "mean      0.22345   539.975500   1721.93000    11.761300          4.389300\n",
       "std       0.47570   593.810888   2017.79918    15.573439          5.990604\n",
       "min       0.00000     1.000000  -3320.00000     0.000000          0.000000\n",
       "25%       0.00000   144.750000     40.00000     0.000000          0.000000\n",
       "50%       0.00000   400.000000   1130.00000     7.100000          2.400000\n",
       "75%       0.30000   736.750000   2572.50000    18.500000          6.900000\n",
       "max       6.95000  8292.000000  19740.00000   184.300000         91.500000"
      ]
     },
     "execution_count": 282,
     "metadata": {},
     "output_type": "execute_result"
    }
   ],
   "source": [
    "bike_data.describe(exclude='category')"
   ]
  },
  {
   "cell_type": "markdown",
   "metadata": {},
   "source": [
    "Convert negative values to positive."
   ]
  },
  {
   "cell_type": "code",
   "execution_count": 283,
   "metadata": {},
   "outputs": [
    {
     "data": {
      "text/html": [
       "<div>\n",
       "<style scoped>\n",
       "    .dataframe tbody tr th:only-of-type {\n",
       "        vertical-align: middle;\n",
       "    }\n",
       "\n",
       "    .dataframe tbody tr th {\n",
       "        vertical-align: top;\n",
       "    }\n",
       "\n",
       "    .dataframe thead th {\n",
       "        text-align: right;\n",
       "    }\n",
       "</style>\n",
       "<table border=\"1\" class=\"dataframe\">\n",
       "  <thead>\n",
       "    <tr style=\"text-align: right;\">\n",
       "      <th></th>\n",
       "      <th>cost</th>\n",
       "      <th>duration</th>\n",
       "      <th>distance</th>\n",
       "      <th>energy_used</th>\n",
       "      <th>energy_collected</th>\n",
       "    </tr>\n",
       "  </thead>\n",
       "  <tbody>\n",
       "    <tr>\n",
       "      <th>count</th>\n",
       "      <td>2000.00000</td>\n",
       "      <td>2000.000000</td>\n",
       "      <td>2000.000000</td>\n",
       "      <td>2000.000000</td>\n",
       "      <td>2000.000000</td>\n",
       "    </tr>\n",
       "    <tr>\n",
       "      <th>mean</th>\n",
       "      <td>0.22345</td>\n",
       "      <td>539.975500</td>\n",
       "      <td>1726.960000</td>\n",
       "      <td>11.761300</td>\n",
       "      <td>4.389300</td>\n",
       "    </tr>\n",
       "    <tr>\n",
       "      <th>std</th>\n",
       "      <td>0.47570</td>\n",
       "      <td>593.810888</td>\n",
       "      <td>2013.493714</td>\n",
       "      <td>15.573439</td>\n",
       "      <td>5.990604</td>\n",
       "    </tr>\n",
       "    <tr>\n",
       "      <th>min</th>\n",
       "      <td>0.00000</td>\n",
       "      <td>1.000000</td>\n",
       "      <td>0.000000</td>\n",
       "      <td>0.000000</td>\n",
       "      <td>0.000000</td>\n",
       "    </tr>\n",
       "    <tr>\n",
       "      <th>25%</th>\n",
       "      <td>0.00000</td>\n",
       "      <td>144.750000</td>\n",
       "      <td>50.000000</td>\n",
       "      <td>0.000000</td>\n",
       "      <td>0.000000</td>\n",
       "    </tr>\n",
       "    <tr>\n",
       "      <th>50%</th>\n",
       "      <td>0.00000</td>\n",
       "      <td>400.000000</td>\n",
       "      <td>1130.000000</td>\n",
       "      <td>7.100000</td>\n",
       "      <td>2.400000</td>\n",
       "    </tr>\n",
       "    <tr>\n",
       "      <th>75%</th>\n",
       "      <td>0.30000</td>\n",
       "      <td>736.750000</td>\n",
       "      <td>2580.000000</td>\n",
       "      <td>18.500000</td>\n",
       "      <td>6.900000</td>\n",
       "    </tr>\n",
       "    <tr>\n",
       "      <th>max</th>\n",
       "      <td>6.95000</td>\n",
       "      <td>8292.000000</td>\n",
       "      <td>19740.000000</td>\n",
       "      <td>184.300000</td>\n",
       "      <td>91.500000</td>\n",
       "    </tr>\n",
       "  </tbody>\n",
       "</table>\n",
       "</div>"
      ],
      "text/plain": [
       "             cost     duration      distance  energy_used  energy_collected\n",
       "count  2000.00000  2000.000000   2000.000000  2000.000000       2000.000000\n",
       "mean      0.22345   539.975500   1726.960000    11.761300          4.389300\n",
       "std       0.47570   593.810888   2013.493714    15.573439          5.990604\n",
       "min       0.00000     1.000000      0.000000     0.000000          0.000000\n",
       "25%       0.00000   144.750000     50.000000     0.000000          0.000000\n",
       "50%       0.00000   400.000000   1130.000000     7.100000          2.400000\n",
       "75%       0.30000   736.750000   2580.000000    18.500000          6.900000\n",
       "max       6.95000  8292.000000  19740.000000   184.300000         91.500000"
      ]
     },
     "execution_count": 283,
     "metadata": {},
     "output_type": "execute_result"
    }
   ],
   "source": [
    "bike_data['distance'] = bike_data['distance'].apply(lambda x: np.abs(x))\n",
    "bike_data.describe()"
   ]
  },
  {
   "cell_type": "code",
   "execution_count": 284,
   "metadata": {},
   "outputs": [
    {
     "data": {
      "text/html": [
       "<div>\n",
       "<style scoped>\n",
       "    .dataframe tbody tr th:only-of-type {\n",
       "        vertical-align: middle;\n",
       "    }\n",
       "\n",
       "    .dataframe tbody tr th {\n",
       "        vertical-align: top;\n",
       "    }\n",
       "\n",
       "    .dataframe thead th {\n",
       "        text-align: right;\n",
       "    }\n",
       "</style>\n",
       "<table border=\"1\" class=\"dataframe\">\n",
       "  <thead>\n",
       "    <tr style=\"text-align: right;\">\n",
       "      <th></th>\n",
       "      <th>ticket</th>\n",
       "      <th>month</th>\n",
       "      <th>location_from</th>\n",
       "      <th>location_to</th>\n",
       "      <th>assistance</th>\n",
       "    </tr>\n",
       "  </thead>\n",
       "  <tbody>\n",
       "    <tr>\n",
       "      <th>count</th>\n",
       "      <td>2000</td>\n",
       "      <td>2000</td>\n",
       "      <td>2000</td>\n",
       "      <td>2000</td>\n",
       "      <td>2000</td>\n",
       "    </tr>\n",
       "    <tr>\n",
       "      <th>unique</th>\n",
       "      <td>3</td>\n",
       "      <td>7</td>\n",
       "      <td>10</td>\n",
       "      <td>10</td>\n",
       "      <td>2</td>\n",
       "    </tr>\n",
       "    <tr>\n",
       "      <th>top</th>\n",
       "      <td>season</td>\n",
       "      <td>6</td>\n",
       "      <td>TORI</td>\n",
       "      <td>TORI</td>\n",
       "      <td>1</td>\n",
       "    </tr>\n",
       "    <tr>\n",
       "      <th>freq</th>\n",
       "      <td>893</td>\n",
       "      <td>488</td>\n",
       "      <td>673</td>\n",
       "      <td>756</td>\n",
       "      <td>1633</td>\n",
       "    </tr>\n",
       "  </tbody>\n",
       "</table>\n",
       "</div>"
      ],
      "text/plain": [
       "        ticket  month location_from location_to  assistance\n",
       "count     2000   2000          2000        2000        2000\n",
       "unique       3      7            10          10           2\n",
       "top     season      6          TORI        TORI           1\n",
       "freq       893    488           673         756        1633"
      ]
     },
     "execution_count": 284,
     "metadata": {},
     "output_type": "execute_result"
    }
   ],
   "source": [
    "bike_data.describe(include='category')"
   ]
  },
  {
   "cell_type": "markdown",
   "metadata": {},
   "source": [
    "### Visualising the distribution of quantitative variables."
   ]
  },
  {
   "cell_type": "markdown",
   "metadata": {},
   "source": [
    "Check ticket costs for each type."
   ]
  },
  {
   "cell_type": "code",
   "execution_count": 285,
   "metadata": {},
   "outputs": [
    {
     "data": {
      "text/plain": [
       "ticket\n",
       "savonia      0.0\n",
       "season       8.0\n",
       "single     438.9\n",
       "Name: cost, dtype: float64"
      ]
     },
     "execution_count": 285,
     "metadata": {},
     "output_type": "execute_result"
    }
   ],
   "source": [
    "bike_data.groupby('ticket')['cost'].sum()"
   ]
  },
  {
   "cell_type": "code",
   "execution_count": 286,
   "metadata": {},
   "outputs": [
    {
     "data": {
      "text/html": [
       "<div>\n",
       "<style scoped>\n",
       "    .dataframe tbody tr th:only-of-type {\n",
       "        vertical-align: middle;\n",
       "    }\n",
       "\n",
       "    .dataframe tbody tr th {\n",
       "        vertical-align: top;\n",
       "    }\n",
       "\n",
       "    .dataframe thead th {\n",
       "        text-align: right;\n",
       "    }\n",
       "</style>\n",
       "<table border=\"1\" class=\"dataframe\">\n",
       "  <thead>\n",
       "    <tr style=\"text-align: right;\">\n",
       "      <th></th>\n",
       "      <th>ticket</th>\n",
       "      <th>cost</th>\n",
       "      <th>month</th>\n",
       "      <th>location_from</th>\n",
       "      <th>location_to</th>\n",
       "      <th>duration</th>\n",
       "      <th>distance</th>\n",
       "      <th>assistance</th>\n",
       "      <th>energy_used</th>\n",
       "      <th>energy_collected</th>\n",
       "    </tr>\n",
       "  </thead>\n",
       "  <tbody>\n",
       "    <tr>\n",
       "      <th>119</th>\n",
       "      <td>season</td>\n",
       "      <td>1.0</td>\n",
       "      <td>7</td>\n",
       "      <td>VÄINÖLÄNNIEMI</td>\n",
       "      <td>MICROTEKNIA</td>\n",
       "      <td>2232</td>\n",
       "      <td>6520</td>\n",
       "      <td>1</td>\n",
       "      <td>62.0</td>\n",
       "      <td>10.2</td>\n",
       "    </tr>\n",
       "    <tr>\n",
       "      <th>296</th>\n",
       "      <td>season</td>\n",
       "      <td>1.0</td>\n",
       "      <td>7</td>\n",
       "      <td>UIMAHALLI</td>\n",
       "      <td>RYPYSUO</td>\n",
       "      <td>2946</td>\n",
       "      <td>6000</td>\n",
       "      <td>1</td>\n",
       "      <td>47.8</td>\n",
       "      <td>15.9</td>\n",
       "    </tr>\n",
       "    <tr>\n",
       "      <th>741</th>\n",
       "      <td>season</td>\n",
       "      <td>1.0</td>\n",
       "      <td>5</td>\n",
       "      <td>TORI</td>\n",
       "      <td>TORI</td>\n",
       "      <td>2851</td>\n",
       "      <td>3920</td>\n",
       "      <td>0</td>\n",
       "      <td>0.0</td>\n",
       "      <td>9.0</td>\n",
       "    </tr>\n",
       "    <tr>\n",
       "      <th>785</th>\n",
       "      <td>season</td>\n",
       "      <td>1.0</td>\n",
       "      <td>8</td>\n",
       "      <td>VÄINÖLÄNNIEMI</td>\n",
       "      <td>VÄINÖLÄNNIEMI</td>\n",
       "      <td>2286</td>\n",
       "      <td>4370</td>\n",
       "      <td>1</td>\n",
       "      <td>31.7</td>\n",
       "      <td>12.0</td>\n",
       "    </tr>\n",
       "    <tr>\n",
       "      <th>1091</th>\n",
       "      <td>season</td>\n",
       "      <td>1.0</td>\n",
       "      <td>6</td>\n",
       "      <td>MICROTEKNIA</td>\n",
       "      <td>PETONEN</td>\n",
       "      <td>2014</td>\n",
       "      <td>6810</td>\n",
       "      <td>0</td>\n",
       "      <td>0.0</td>\n",
       "      <td>13.5</td>\n",
       "    </tr>\n",
       "    <tr>\n",
       "      <th>1323</th>\n",
       "      <td>season</td>\n",
       "      <td>1.0</td>\n",
       "      <td>8</td>\n",
       "      <td>TORI</td>\n",
       "      <td>SATAMA</td>\n",
       "      <td>1856</td>\n",
       "      <td>2770</td>\n",
       "      <td>1</td>\n",
       "      <td>22.4</td>\n",
       "      <td>7.5</td>\n",
       "    </tr>\n",
       "    <tr>\n",
       "      <th>1469</th>\n",
       "      <td>season</td>\n",
       "      <td>1.0</td>\n",
       "      <td>6</td>\n",
       "      <td>VÄINÖLÄNNIEMI</td>\n",
       "      <td>VÄINÖLÄNNIEMI</td>\n",
       "      <td>2422</td>\n",
       "      <td>7110</td>\n",
       "      <td>1</td>\n",
       "      <td>36.0</td>\n",
       "      <td>9.9</td>\n",
       "    </tr>\n",
       "    <tr>\n",
       "      <th>1630</th>\n",
       "      <td>season</td>\n",
       "      <td>1.0</td>\n",
       "      <td>7</td>\n",
       "      <td>VÄINÖLÄNNIEMI</td>\n",
       "      <td>VÄINÖLÄNNIEMI</td>\n",
       "      <td>3268</td>\n",
       "      <td>8940</td>\n",
       "      <td>1</td>\n",
       "      <td>80.6</td>\n",
       "      <td>21.9</td>\n",
       "    </tr>\n",
       "  </tbody>\n",
       "</table>\n",
       "</div>"
      ],
      "text/plain": [
       "      ticket  cost month  location_from    location_to  duration  distance  \\\n",
       "119   season   1.0     7  VÄINÖLÄNNIEMI    MICROTEKNIA      2232      6520   \n",
       "296   season   1.0     7      UIMAHALLI        RYPYSUO      2946      6000   \n",
       "741   season   1.0     5           TORI           TORI      2851      3920   \n",
       "785   season   1.0     8  VÄINÖLÄNNIEMI  VÄINÖLÄNNIEMI      2286      4370   \n",
       "1091  season   1.0     6    MICROTEKNIA        PETONEN      2014      6810   \n",
       "1323  season   1.0     8           TORI         SATAMA      1856      2770   \n",
       "1469  season   1.0     6  VÄINÖLÄNNIEMI  VÄINÖLÄNNIEMI      2422      7110   \n",
       "1630  season   1.0     7  VÄINÖLÄNNIEMI  VÄINÖLÄNNIEMI      3268      8940   \n",
       "\n",
       "     assistance  energy_used  energy_collected  \n",
       "119           1         62.0              10.2  \n",
       "296           1         47.8              15.9  \n",
       "741           0          0.0               9.0  \n",
       "785           1         31.7              12.0  \n",
       "1091          0          0.0              13.5  \n",
       "1323          1         22.4               7.5  \n",
       "1469          1         36.0               9.9  \n",
       "1630          1         80.6              21.9  "
      ]
     },
     "execution_count": 286,
     "metadata": {},
     "output_type": "execute_result"
    }
   ],
   "source": [
    "bike_data.loc[bike_data['ticket'] == 'season'].loc[bike_data['cost'] == 1]"
   ]
  },
  {
   "cell_type": "markdown",
   "metadata": {},
   "source": [
    "Only single tickets have a cost. The cost on seasonal tickets is assumed to be an extra cost for long distance trips."
   ]
  },
  {
   "cell_type": "code",
   "execution_count": 287,
   "metadata": {},
   "outputs": [
    {
     "data": {
      "text/plain": [
       "Text(0.5, 1.0, 'Single ticket costs')"
      ]
     },
     "execution_count": 287,
     "metadata": {},
     "output_type": "execute_result"
    },
    {
     "data": {
      "image/png": "[encoded data removed]",
      "text/plain": [
       "<Figure size 640x480 with 1 Axes>"
      ]
     },
     "metadata": {},
     "output_type": "display_data"
    }
   ],
   "source": [
    "ax_cost = bike_data.loc[bike_data['ticket'] == 'single'].plot.hist(column='cost', bins=50, range=(0,bike_data['cost'].max()), legend=False)\n",
    "# Set xlabel to the ax because it did not work as an argument to hist()\n",
    "ax_cost.set_xlabel('Ticket cost in euros')\n",
    "ax_cost.set_title('Single ticket costs')\n"
   ]
  },
  {
   "cell_type": "code",
   "execution_count": 288,
   "metadata": {},
   "outputs": [
    {
     "data": {
      "text/plain": [
       "Text(0.5, 1.0, 'Rental duration')"
      ]
     },
     "execution_count": 288,
     "metadata": {},
     "output_type": "execute_result"
    },
    {
     "data": {
      "image/png": "[encoded data removed]",
      "text/plain": [
       "<Figure size 640x480 with 1 Axes>"
      ]
     },
     "metadata": {},
     "output_type": "display_data"
    }
   ],
   "source": [
    "ax_duration = bike_data.plot.hist(column='duration', bins=50, range=(0,bike_data['duration'].max()), legend=False)\n",
    "ax_duration.set_xlabel('Duration in seconds')\n",
    "ax_duration.set_title('Rental duration')"
   ]
  },
  {
   "cell_type": "code",
   "execution_count": 289,
   "metadata": {},
   "outputs": [
    {
     "data": {
      "text/plain": [
       "Text(0.5, 1.0, 'Travel distance')"
      ]
     },
     "execution_count": 289,
     "metadata": {},
     "output_type": "execute_result"
    },
    {
     "data": {
      "image/png": "[encoded data removed]",
      "text/plain": [
       "<Figure size 640x480 with 1 Axes>"
      ]
     },
     "metadata": {},
     "output_type": "display_data"
    }
   ],
   "source": [
    "ax_distance = bike_data.plot.hist(column='distance', bins=50, range=(0,bike_data['distance'].max()), legend=False)\n",
    "ax_distance.set_xlabel('Travel distance in meters')\n",
    "ax_distance.set_title('Travel distance')"
   ]
  },
  {
   "cell_type": "markdown",
   "metadata": {},
   "source": [
    "Energy used is considered only when assistance was used."
   ]
  },
  {
   "cell_type": "code",
   "execution_count": 290,
   "metadata": {},
   "outputs": [
    {
     "data": {
      "text/plain": [
       "<AxesSubplot:title={'center':'Energy used when assistance was used'}, xlabel='Energy used in watt-hours', ylabel='Frequency'>"
      ]
     },
     "execution_count": 290,
     "metadata": {},
     "output_type": "execute_result"
    },
    {
     "data": {
      "image/png": "[encoded data removed]",
      "text/plain": [
       "<Figure size 640x480 with 1 Axes>"
      ]
     },
     "metadata": {},
     "output_type": "display_data"
    }
   ],
   "source": [
    "ax_energy_used = bike_data.loc[bike_data['assistance'] == 1].plot.hist(column='energy_used', bins=50, range=(0,bike_data['energy_used'].max()), legend=False)\n",
    "ax_energy_used.set_xlabel('Energy used in watt-hours')\n",
    "ax_energy_used.set_title('Energy used when assistance was used')\n",
    "ax_energy_used"
   ]
  },
  {
   "cell_type": "code",
   "execution_count": 291,
   "metadata": {},
   "outputs": [
    {
     "data": {
      "text/plain": [
       "<AxesSubplot:title={'center':'Energy collected'}, xlabel='Energy collected in watt-hours', ylabel='Frequency'>"
      ]
     },
     "execution_count": 291,
     "metadata": {},
     "output_type": "execute_result"
    },
    {
     "data": {
      "image/png": "[encoded data removed]",
      "text/plain": [
       "<Figure size 640x480 with 1 Axes>"
      ]
     },
     "metadata": {},
     "output_type": "display_data"
    }
   ],
   "source": [
    "ax_energy_collected = bike_data.plot.hist(column='energy_collected', bins=50, range=(0,bike_data['energy_collected'].max()), legend=False)\n",
    "ax_energy_collected.set_xlabel('Energy collected in watt-hours')\n",
    "ax_energy_collected.set_title('Energy collected')\n",
    "ax_energy_collected"
   ]
  },
  {
   "cell_type": "markdown",
   "metadata": {},
   "source": [
    "### Visualising the distribution of categorical variables."
   ]
  },
  {
   "cell_type": "code",
   "execution_count": 292,
   "metadata": {},
   "outputs": [
    {
     "data": {
      "text/plain": [
       "<AxesSubplot:title={'center':'Ticket counts'}>"
      ]
     },
     "execution_count": 292,
     "metadata": {},
     "output_type": "execute_result"
    },
    {
     "data": {
      "image/png": "[encoded data removed]",
      "text/plain": [
       "<Figure size 640x480 with 1 Axes>"
      ]
     },
     "metadata": {},
     "output_type": "display_data"
    }
   ],
   "source": [
    "bike_data['ticket'].value_counts().plot.bar(title='Ticket counts')"
   ]
  },
  {
   "cell_type": "code",
   "execution_count": 293,
   "metadata": {},
   "outputs": [
    {
     "data": {
      "text/plain": [
       "<AxesSubplot:title={'center':'Monthly rentals'}>"
      ]
     },
     "execution_count": 293,
     "metadata": {},
     "output_type": "execute_result"
    },
    {
     "data": {
      "image/png": "[encoded data removed]",
      "text/plain": [
       "<Figure size 640x480 with 1 Axes>"
      ]
     },
     "metadata": {},
     "output_type": "display_data"
    }
   ],
   "source": [
    "import calendar\n",
    "bike_data_month = bike_data['month'].apply(lambda x: calendar.month_abbr[x])\n",
    "bike_data_month.value_counts(sort=False).plot.bar(title='Monthly rentals')"
   ]
  },
  {
   "cell_type": "code",
   "execution_count": 294,
   "metadata": {},
   "outputs": [
    {
     "data": {
      "text/plain": [
       "<AxesSubplot:title={'center':'Rental start location'}>"
      ]
     },
     "execution_count": 294,
     "metadata": {},
     "output_type": "execute_result"
    },
    {
     "data": {
      "image/png": "[encoded data removed]",
      "text/plain": [
       "<Figure size 640x480 with 1 Axes>"
      ]
     },
     "metadata": {},
     "output_type": "display_data"
    }
   ],
   "source": [
    "bike_data['location_from'].value_counts().plot.bar(title='Rental start location')"
   ]
  },
  {
   "cell_type": "code",
   "execution_count": 295,
   "metadata": {},
   "outputs": [
    {
     "data": {
      "text/plain": [
       "<AxesSubplot:title={'center':'Rental end location'}>"
      ]
     },
     "execution_count": 295,
     "metadata": {},
     "output_type": "execute_result"
    },
    {
     "data": {
      "image/png": "[encoded data removed]",
      "text/plain": [
       "<Figure size 640x480 with 1 Axes>"
      ]
     },
     "metadata": {},
     "output_type": "display_data"
    }
   ],
   "source": [
    "bike_data['location_to'].value_counts().plot.bar(title='Rental end location')"
   ]
  },
  {
   "cell_type": "code",
   "execution_count": 304,
   "metadata": {},
   "outputs": [
    {
     "data": {
      "text/plain": [
       "<AxesSubplot:title={'center':'Assistance used'}>"
      ]
     },
     "execution_count": 304,
     "metadata": {},
     "output_type": "execute_result"
    },
    {
     "data": {
      "image/png": "[encoded data removed]",
      "text/plain": [
       "<Figure size 640x480 with 1 Axes>"
      ]
     },
     "metadata": {},
     "output_type": "display_data"
    }
   ],
   "source": [
    "ax_assistance = bike_data['assistance'].value_counts().plot.bar(title='Assistance used')\n",
    "ax_assistance.set_xticklabels(['yes', 'no'], rotation=0)\n",
    "ax_assistance"
   ]
  },
  {
   "cell_type": "markdown",
   "metadata": {},
   "source": [
    "## Data exploration"
   ]
  },
  {
   "cell_type": "markdown",
   "metadata": {},
   "source": [
    "### Calculating the total distance travelled, the total time travelled, and the total amount of fees paid per ticket type."
   ]
  },
  {
   "cell_type": "code",
   "execution_count": 320,
   "metadata": {},
   "outputs": [
    {
     "data": {
      "text/html": [
       "<div>\n",
       "<style scoped>\n",
       "    .dataframe tbody tr th:only-of-type {\n",
       "        vertical-align: middle;\n",
       "    }\n",
       "\n",
       "    .dataframe tbody tr th {\n",
       "        vertical-align: top;\n",
       "    }\n",
       "\n",
       "    .dataframe thead th {\n",
       "        text-align: right;\n",
       "    }\n",
       "</style>\n",
       "<table border=\"1\" class=\"dataframe\">\n",
       "  <thead>\n",
       "    <tr style=\"text-align: right;\">\n",
       "      <th></th>\n",
       "      <th>distance</th>\n",
       "      <th>duration</th>\n",
       "      <th>cost</th>\n",
       "    </tr>\n",
       "    <tr>\n",
       "      <th>ticket</th>\n",
       "      <th></th>\n",
       "      <th></th>\n",
       "      <th></th>\n",
       "    </tr>\n",
       "  </thead>\n",
       "  <tbody>\n",
       "    <tr>\n",
       "      <th>savonia</th>\n",
       "      <td>408590</td>\n",
       "      <td>122618</td>\n",
       "      <td>0.0</td>\n",
       "    </tr>\n",
       "    <tr>\n",
       "      <th>season</th>\n",
       "      <td>1419250</td>\n",
       "      <td>459643</td>\n",
       "      <td>8.0</td>\n",
       "    </tr>\n",
       "    <tr>\n",
       "      <th>single</th>\n",
       "      <td>1626080</td>\n",
       "      <td>497690</td>\n",
       "      <td>438.9</td>\n",
       "    </tr>\n",
       "  </tbody>\n",
       "</table>\n",
       "</div>"
      ],
      "text/plain": [
       "         distance  duration   cost\n",
       "ticket                            \n",
       "savonia    408590    122618    0.0\n",
       "season    1419250    459643    8.0\n",
       "single    1626080    497690  438.9"
      ]
     },
     "execution_count": 320,
     "metadata": {},
     "output_type": "execute_result"
    }
   ],
   "source": [
    "bike_data.groupby('ticket')[['distance', 'duration', 'cost']].sum()"
   ]
  },
  {
   "cell_type": "markdown",
   "metadata": {},
   "source": [
    "Takng a closer look in season ticket costs."
   ]
  },
  {
   "cell_type": "code",
   "execution_count": 300,
   "metadata": {},
   "outputs": [
    {
     "data": {
      "text/html": [
       "<div>\n",
       "<style scoped>\n",
       "    .dataframe tbody tr th:only-of-type {\n",
       "        vertical-align: middle;\n",
       "    }\n",
       "\n",
       "    .dataframe tbody tr th {\n",
       "        vertical-align: top;\n",
       "    }\n",
       "\n",
       "    .dataframe thead th {\n",
       "        text-align: right;\n",
       "    }\n",
       "</style>\n",
       "<table border=\"1\" class=\"dataframe\">\n",
       "  <thead>\n",
       "    <tr style=\"text-align: right;\">\n",
       "      <th></th>\n",
       "      <th>ticket</th>\n",
       "      <th>cost</th>\n",
       "      <th>month</th>\n",
       "      <th>location_from</th>\n",
       "      <th>location_to</th>\n",
       "      <th>duration</th>\n",
       "      <th>distance</th>\n",
       "      <th>assistance</th>\n",
       "      <th>energy_used</th>\n",
       "      <th>energy_collected</th>\n",
       "    </tr>\n",
       "  </thead>\n",
       "  <tbody>\n",
       "    <tr>\n",
       "      <th>119</th>\n",
       "      <td>season</td>\n",
       "      <td>1.0</td>\n",
       "      <td>7</td>\n",
       "      <td>VÄINÖLÄNNIEMI</td>\n",
       "      <td>MICROTEKNIA</td>\n",
       "      <td>2232</td>\n",
       "      <td>6520</td>\n",
       "      <td>1</td>\n",
       "      <td>62.0</td>\n",
       "      <td>10.2</td>\n",
       "    </tr>\n",
       "    <tr>\n",
       "      <th>296</th>\n",
       "      <td>season</td>\n",
       "      <td>1.0</td>\n",
       "      <td>7</td>\n",
       "      <td>UIMAHALLI</td>\n",
       "      <td>RYPYSUO</td>\n",
       "      <td>2946</td>\n",
       "      <td>6000</td>\n",
       "      <td>1</td>\n",
       "      <td>47.8</td>\n",
       "      <td>15.9</td>\n",
       "    </tr>\n",
       "    <tr>\n",
       "      <th>741</th>\n",
       "      <td>season</td>\n",
       "      <td>1.0</td>\n",
       "      <td>5</td>\n",
       "      <td>TORI</td>\n",
       "      <td>TORI</td>\n",
       "      <td>2851</td>\n",
       "      <td>3920</td>\n",
       "      <td>0</td>\n",
       "      <td>0.0</td>\n",
       "      <td>9.0</td>\n",
       "    </tr>\n",
       "    <tr>\n",
       "      <th>785</th>\n",
       "      <td>season</td>\n",
       "      <td>1.0</td>\n",
       "      <td>8</td>\n",
       "      <td>VÄINÖLÄNNIEMI</td>\n",
       "      <td>VÄINÖLÄNNIEMI</td>\n",
       "      <td>2286</td>\n",
       "      <td>4370</td>\n",
       "      <td>1</td>\n",
       "      <td>31.7</td>\n",
       "      <td>12.0</td>\n",
       "    </tr>\n",
       "    <tr>\n",
       "      <th>1091</th>\n",
       "      <td>season</td>\n",
       "      <td>1.0</td>\n",
       "      <td>6</td>\n",
       "      <td>MICROTEKNIA</td>\n",
       "      <td>PETONEN</td>\n",
       "      <td>2014</td>\n",
       "      <td>6810</td>\n",
       "      <td>0</td>\n",
       "      <td>0.0</td>\n",
       "      <td>13.5</td>\n",
       "    </tr>\n",
       "    <tr>\n",
       "      <th>1323</th>\n",
       "      <td>season</td>\n",
       "      <td>1.0</td>\n",
       "      <td>8</td>\n",
       "      <td>TORI</td>\n",
       "      <td>SATAMA</td>\n",
       "      <td>1856</td>\n",
       "      <td>2770</td>\n",
       "      <td>1</td>\n",
       "      <td>22.4</td>\n",
       "      <td>7.5</td>\n",
       "    </tr>\n",
       "    <tr>\n",
       "      <th>1469</th>\n",
       "      <td>season</td>\n",
       "      <td>1.0</td>\n",
       "      <td>6</td>\n",
       "      <td>VÄINÖLÄNNIEMI</td>\n",
       "      <td>VÄINÖLÄNNIEMI</td>\n",
       "      <td>2422</td>\n",
       "      <td>7110</td>\n",
       "      <td>1</td>\n",
       "      <td>36.0</td>\n",
       "      <td>9.9</td>\n",
       "    </tr>\n",
       "    <tr>\n",
       "      <th>1630</th>\n",
       "      <td>season</td>\n",
       "      <td>1.0</td>\n",
       "      <td>7</td>\n",
       "      <td>VÄINÖLÄNNIEMI</td>\n",
       "      <td>VÄINÖLÄNNIEMI</td>\n",
       "      <td>3268</td>\n",
       "      <td>8940</td>\n",
       "      <td>1</td>\n",
       "      <td>80.6</td>\n",
       "      <td>21.9</td>\n",
       "    </tr>\n",
       "  </tbody>\n",
       "</table>\n",
       "</div>"
      ],
      "text/plain": [
       "      ticket  cost month  location_from    location_to  duration  distance  \\\n",
       "119   season   1.0     7  VÄINÖLÄNNIEMI    MICROTEKNIA      2232      6520   \n",
       "296   season   1.0     7      UIMAHALLI        RYPYSUO      2946      6000   \n",
       "741   season   1.0     5           TORI           TORI      2851      3920   \n",
       "785   season   1.0     8  VÄINÖLÄNNIEMI  VÄINÖLÄNNIEMI      2286      4370   \n",
       "1091  season   1.0     6    MICROTEKNIA        PETONEN      2014      6810   \n",
       "1323  season   1.0     8           TORI         SATAMA      1856      2770   \n",
       "1469  season   1.0     6  VÄINÖLÄNNIEMI  VÄINÖLÄNNIEMI      2422      7110   \n",
       "1630  season   1.0     7  VÄINÖLÄNNIEMI  VÄINÖLÄNNIEMI      3268      8940   \n",
       "\n",
       "     assistance  energy_used  energy_collected  \n",
       "119           1         62.0              10.2  \n",
       "296           1         47.8              15.9  \n",
       "741           0          0.0               9.0  \n",
       "785           1         31.7              12.0  \n",
       "1091          0          0.0              13.5  \n",
       "1323          1         22.4               7.5  \n",
       "1469          1         36.0               9.9  \n",
       "1630          1         80.6              21.9  "
      ]
     },
     "execution_count": 300,
     "metadata": {},
     "output_type": "execute_result"
    }
   ],
   "source": [
    "bike_data.loc[bike_data['ticket'] == 'season'].loc[bike_data['cost'] == 1]"
   ]
  },
  {
   "cell_type": "markdown",
   "metadata": {},
   "source": [
    "Only single tickets have a cost. The cost on seasonal tickets is assumed to be an extra cost for long distance trips."
   ]
  },
  {
   "cell_type": "markdown",
   "metadata": {},
   "source": [
    "### Calculating the mean distance travelled, the mean energy consumed, and the mean energy collected per status of assistance."
   ]
  },
  {
   "cell_type": "code",
   "execution_count": 321,
   "metadata": {},
   "outputs": [
    {
     "data": {
      "text/html": [
       "<div>\n",
       "<style scoped>\n",
       "    .dataframe tbody tr th:only-of-type {\n",
       "        vertical-align: middle;\n",
       "    }\n",
       "\n",
       "    .dataframe tbody tr th {\n",
       "        vertical-align: top;\n",
       "    }\n",
       "\n",
       "    .dataframe thead th {\n",
       "        text-align: right;\n",
       "    }\n",
       "</style>\n",
       "<table border=\"1\" class=\"dataframe\">\n",
       "  <thead>\n",
       "    <tr style=\"text-align: right;\">\n",
       "      <th></th>\n",
       "      <th>distance</th>\n",
       "      <th>energy_used</th>\n",
       "      <th>energy_collected</th>\n",
       "    </tr>\n",
       "    <tr>\n",
       "      <th>assistance</th>\n",
       "      <th></th>\n",
       "      <th></th>\n",
       "      <th></th>\n",
       "    </tr>\n",
       "  </thead>\n",
       "  <tbody>\n",
       "    <tr>\n",
       "      <th>no</th>\n",
       "      <td>873.542234</td>\n",
       "      <td>0.000000</td>\n",
       "      <td>1.661853</td>\n",
       "    </tr>\n",
       "    <tr>\n",
       "      <th>yes</th>\n",
       "      <td>1918.756889</td>\n",
       "      <td>14.404532</td>\n",
       "      <td>5.002266</td>\n",
       "    </tr>\n",
       "  </tbody>\n",
       "</table>\n",
       "</div>"
      ],
      "text/plain": [
       "               distance  energy_used  energy_collected\n",
       "assistance                                            \n",
       "no           873.542234     0.000000          1.661853\n",
       "yes         1918.756889    14.404532          5.002266"
      ]
     },
     "execution_count": 321,
     "metadata": {},
     "output_type": "execute_result"
    }
   ],
   "source": [
    "grouped_assistance = bike_data.groupby('assistance')[['distance', 'energy_used', 'energy_collected']].mean()\n",
    "grouped_assistance = grouped_assistance.rename(index={0: 'no', 1:'yes'})\n",
    "grouped_assistance"
   ]
  },
  {
   "cell_type": "markdown",
   "metadata": {},
   "source": []
  }
 ],
 "metadata": {
  "kernelspec": {
   "display_name": "Python 3.10.7 64-bit",
   "language": "python",
   "name": "python3"
  },
  "language_info": {
   "codemirror_mode": {
    "name": "ipython",
    "version": 3
   },
   "file_extension": ".py",
   "mimetype": "text/x-python",
   "name": "python",
   "nbconvert_exporter": "python",
   "pygments_lexer": "ipython3",
   "version": "3.10.8"
  },
  "orig_nbformat": 4,
  "vscode": {
   "interpreter": {
    "hash": "e7370f93d1d0cde622a1f8e1c04877d8463912d04d973331ad4851f04de6915a"
   }
  }
 },
 "nbformat": 4,
 "nbformat_minor": 2
}
