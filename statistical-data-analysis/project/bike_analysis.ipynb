{
 "cells": [
  {
   "cell_type": "markdown",
   "metadata": {},
   "source": [
    "# Analysis of electric bike rental data in city of Kuopio\n",
    "#### *TKO_7093 project work*\n",
    "Juuso Pyykkönen \\\n",
    "522060 \\\n",
    "\\\n",
    "Data source: https://www.avoindata.fi/data/en_GB/dataset/kuopion-kaupunkipyorien-kayttotilastot"
   ]
  },
  {
   "cell_type": "markdown",
   "metadata": {},
   "source": [
    "## Preparing the data"
   ]
  },
  {
   "cell_type": "code",
   "execution_count": 164,
   "metadata": {},
   "outputs": [],
   "source": [
    "import numpy as np\n",
    "import pandas as pd\n",
    "import scipy as sp\n",
    "\n",
    "def print_full(x):\n",
    "    pd.set_option('display.max_rows', len(x))\n",
    "    print(x)\n",
    "    pd.reset_option('display.max_rows')"
   ]
  },
  {
   "cell_type": "markdown",
   "metadata": {},
   "source": [
    "### Loading the data and checking that it is correctly loaded."
   ]
  },
  {
   "cell_type": "code",
   "execution_count": 165,
   "metadata": {},
   "outputs": [
    {
     "data": {
      "text/html": [
       "<div>\n",
       "<style scoped>\n",
       "    .dataframe tbody tr th:only-of-type {\n",
       "        vertical-align: middle;\n",
       "    }\n",
       "\n",
       "    .dataframe tbody tr th {\n",
       "        vertical-align: top;\n",
       "    }\n",
       "\n",
       "    .dataframe thead th {\n",
       "        text-align: right;\n",
       "    }\n",
       "</style>\n",
       "<table border=\"1\" class=\"dataframe\">\n",
       "  <thead>\n",
       "    <tr style=\"text-align: right;\">\n",
       "      <th></th>\n",
       "      <th>ticket</th>\n",
       "      <th>cost</th>\n",
       "      <th>month</th>\n",
       "      <th>location_from</th>\n",
       "      <th>location_to</th>\n",
       "      <th>duration</th>\n",
       "      <th>distance</th>\n",
       "      <th>assistance</th>\n",
       "      <th>energy_used</th>\n",
       "      <th>energy_collected</th>\n",
       "    </tr>\n",
       "  </thead>\n",
       "  <tbody>\n",
       "    <tr>\n",
       "      <th>0</th>\n",
       "      <td>season</td>\n",
       "      <td>0.00</td>\n",
       "      <td>7</td>\n",
       "      <td>TEATTERI</td>\n",
       "      <td>TEATTERI</td>\n",
       "      <td>3</td>\n",
       "      <td>0</td>\n",
       "      <td>0</td>\n",
       "      <td>0.0</td>\n",
       "      <td>0.0</td>\n",
       "    </tr>\n",
       "    <tr>\n",
       "      <th>1</th>\n",
       "      <td>single</td>\n",
       "      <td>0.35</td>\n",
       "      <td>7</td>\n",
       "      <td>TORI</td>\n",
       "      <td>TEATTERI</td>\n",
       "      <td>416</td>\n",
       "      <td>820</td>\n",
       "      <td>1</td>\n",
       "      <td>7.5</td>\n",
       "      <td>0.6</td>\n",
       "    </tr>\n",
       "    <tr>\n",
       "      <th>2</th>\n",
       "      <td>season</td>\n",
       "      <td>0.00</td>\n",
       "      <td>8</td>\n",
       "      <td>TORI</td>\n",
       "      <td>SATAMA</td>\n",
       "      <td>721</td>\n",
       "      <td>1230</td>\n",
       "      <td>0</td>\n",
       "      <td>0.0</td>\n",
       "      <td>2.1</td>\n",
       "    </tr>\n",
       "    <tr>\n",
       "      <th>3</th>\n",
       "      <td>single</td>\n",
       "      <td>0.25</td>\n",
       "      <td>5</td>\n",
       "      <td>TEATTERI</td>\n",
       "      <td>TORI</td>\n",
       "      <td>261</td>\n",
       "      <td>720</td>\n",
       "      <td>0</td>\n",
       "      <td>0.0</td>\n",
       "      <td>1.2</td>\n",
       "    </tr>\n",
       "    <tr>\n",
       "      <th>4</th>\n",
       "      <td>season</td>\n",
       "      <td>0.00</td>\n",
       "      <td>5</td>\n",
       "      <td>TEATTERI</td>\n",
       "      <td>TORI</td>\n",
       "      <td>382</td>\n",
       "      <td>710</td>\n",
       "      <td>1</td>\n",
       "      <td>3.3</td>\n",
       "      <td>0.9</td>\n",
       "    </tr>\n",
       "    <tr>\n",
       "      <th>...</th>\n",
       "      <td>...</td>\n",
       "      <td>...</td>\n",
       "      <td>...</td>\n",
       "      <td>...</td>\n",
       "      <td>...</td>\n",
       "      <td>...</td>\n",
       "      <td>...</td>\n",
       "      <td>...</td>\n",
       "      <td>...</td>\n",
       "      <td>...</td>\n",
       "    </tr>\n",
       "    <tr>\n",
       "      <th>1995</th>\n",
       "      <td>single</td>\n",
       "      <td>0.40</td>\n",
       "      <td>8</td>\n",
       "      <td>KYS</td>\n",
       "      <td>TORI</td>\n",
       "      <td>420</td>\n",
       "      <td>1940</td>\n",
       "      <td>1</td>\n",
       "      <td>10.3</td>\n",
       "      <td>6.0</td>\n",
       "    </tr>\n",
       "    <tr>\n",
       "      <th>1996</th>\n",
       "      <td>single</td>\n",
       "      <td>0.65</td>\n",
       "      <td>7</td>\n",
       "      <td>VÄINÖLÄNNIEMI</td>\n",
       "      <td>SATAMA</td>\n",
       "      <td>720</td>\n",
       "      <td>1020</td>\n",
       "      <td>0</td>\n",
       "      <td>0.0</td>\n",
       "      <td>0.0</td>\n",
       "    </tr>\n",
       "    <tr>\n",
       "      <th>1997</th>\n",
       "      <td>single</td>\n",
       "      <td>0.15</td>\n",
       "      <td>9</td>\n",
       "      <td>TORI</td>\n",
       "      <td>TEATTERI</td>\n",
       "      <td>172</td>\n",
       "      <td>730</td>\n",
       "      <td>1</td>\n",
       "      <td>6.6</td>\n",
       "      <td>0.3</td>\n",
       "    </tr>\n",
       "    <tr>\n",
       "      <th>1998</th>\n",
       "      <td>season</td>\n",
       "      <td>0.00</td>\n",
       "      <td>7</td>\n",
       "      <td>SNELLMANIA</td>\n",
       "      <td>MICROTEKNIA</td>\n",
       "      <td>211</td>\n",
       "      <td>450</td>\n",
       "      <td>0</td>\n",
       "      <td>0.0</td>\n",
       "      <td>0.3</td>\n",
       "    </tr>\n",
       "    <tr>\n",
       "      <th>1999</th>\n",
       "      <td>single</td>\n",
       "      <td>1.00</td>\n",
       "      <td>5</td>\n",
       "      <td>TEATTERI</td>\n",
       "      <td>TORI</td>\n",
       "      <td>1166</td>\n",
       "      <td>680</td>\n",
       "      <td>1</td>\n",
       "      <td>3.4</td>\n",
       "      <td>2.4</td>\n",
       "    </tr>\n",
       "  </tbody>\n",
       "</table>\n",
       "<p>2000 rows × 10 columns</p>\n",
       "</div>"
      ],
      "text/plain": [
       "      ticket  cost  month  location_from  location_to  duration  distance  \\\n",
       "0     season  0.00      7       TEATTERI     TEATTERI         3         0   \n",
       "1     single  0.35      7           TORI     TEATTERI       416       820   \n",
       "2     season  0.00      8           TORI       SATAMA       721      1230   \n",
       "3     single  0.25      5       TEATTERI         TORI       261       720   \n",
       "4     season  0.00      5       TEATTERI         TORI       382       710   \n",
       "...      ...   ...    ...            ...          ...       ...       ...   \n",
       "1995  single  0.40      8            KYS         TORI       420      1940   \n",
       "1996  single  0.65      7  VÄINÖLÄNNIEMI       SATAMA       720      1020   \n",
       "1997  single  0.15      9           TORI     TEATTERI       172       730   \n",
       "1998  season  0.00      7     SNELLMANIA  MICROTEKNIA       211       450   \n",
       "1999  single  1.00      5       TEATTERI         TORI      1166       680   \n",
       "\n",
       "      assistance  energy_used  energy_collected  \n",
       "0              0          0.0               0.0  \n",
       "1              1          7.5               0.6  \n",
       "2              0          0.0               2.1  \n",
       "3              0          0.0               1.2  \n",
       "4              1          3.3               0.9  \n",
       "...          ...          ...               ...  \n",
       "1995           1         10.3               6.0  \n",
       "1996           0          0.0               0.0  \n",
       "1997           1          6.6               0.3  \n",
       "1998           0          0.0               0.3  \n",
       "1999           1          3.4               2.4  \n",
       "\n",
       "[2000 rows x 10 columns]"
      ]
     },
     "execution_count": 165,
     "metadata": {},
     "output_type": "execute_result"
    }
   ],
   "source": [
    "bike_data = pd.read_csv('bikes.data', header=0)\n",
    "bike_data"
   ]
  },
  {
   "cell_type": "code",
   "execution_count": 166,
   "metadata": {},
   "outputs": [
    {
     "name": "stdout",
     "output_type": "stream",
     "text": [
      "<class 'pandas.core.frame.DataFrame'>\n",
      "RangeIndex: 2000 entries, 0 to 1999\n",
      "Data columns (total 10 columns):\n",
      " #   Column            Non-Null Count  Dtype  \n",
      "---  ------            --------------  -----  \n",
      " 0   ticket            2000 non-null   object \n",
      " 1   cost              2000 non-null   float64\n",
      " 2   month             2000 non-null   int64  \n",
      " 3   location_from     2000 non-null   object \n",
      " 4   location_to       2000 non-null   object \n",
      " 5   duration          2000 non-null   int64  \n",
      " 6   distance          2000 non-null   int64  \n",
      " 7   assistance        2000 non-null   int64  \n",
      " 8   energy_used       2000 non-null   float64\n",
      " 9   energy_collected  2000 non-null   float64\n",
      "dtypes: float64(3), int64(4), object(3)\n",
      "memory usage: 156.4+ KB\n"
     ]
    }
   ],
   "source": [
    "bike_data.info()"
   ]
  },
  {
   "cell_type": "markdown",
   "metadata": {},
   "source": [
    "No null values in the data."
   ]
  },
  {
   "cell_type": "markdown",
   "metadata": {},
   "source": [
    "### Descriptions of variables."
   ]
  },
  {
   "cell_type": "code",
   "execution_count": 167,
   "metadata": {},
   "outputs": [
    {
     "data": {
      "text/html": [
       "<style type=\"text/css\">\n",
       "</style>\n",
       "<table id=\"T_0a91c\">\n",
       "  <thead>\n",
       "    <tr>\n",
       "      <th class=\"blank level0\" >&nbsp;</th>\n",
       "      <th id=\"T_0a91c_level0_col0\" class=\"col_heading level0 col0\" >Variable</th>\n",
       "      <th id=\"T_0a91c_level0_col1\" class=\"col_heading level0 col1\" >Description</th>\n",
       "      <th id=\"T_0a91c_level0_col2\" class=\"col_heading level0 col2\" >Variable type</th>\n",
       "    </tr>\n",
       "  </thead>\n",
       "  <tbody>\n",
       "    <tr>\n",
       "      <th id=\"T_0a91c_level0_row0\" class=\"row_heading level0 row0\" >0</th>\n",
       "      <td id=\"T_0a91c_row0_col0\" class=\"data row0 col0\" >ticket</td>\n",
       "      <td id=\"T_0a91c_row0_col1\" class=\"data row0 col1\" >ticket type</td>\n",
       "      <td id=\"T_0a91c_row0_col2\" class=\"data row0 col2\" >categorical</td>\n",
       "    </tr>\n",
       "    <tr>\n",
       "      <th id=\"T_0a91c_level0_row1\" class=\"row_heading level0 row1\" >1</th>\n",
       "      <td id=\"T_0a91c_row1_col0\" class=\"data row1 col0\" >cost</td>\n",
       "      <td id=\"T_0a91c_row1_col1\" class=\"data row1 col1\" >paid fee in euros</td>\n",
       "      <td id=\"T_0a91c_row1_col2\" class=\"data row1 col2\" >quantitative</td>\n",
       "    </tr>\n",
       "    <tr>\n",
       "      <th id=\"T_0a91c_level0_row2\" class=\"row_heading level0 row2\" >2</th>\n",
       "      <td id=\"T_0a91c_row2_col0\" class=\"data row2 col0\" >month</td>\n",
       "      <td id=\"T_0a91c_row2_col1\" class=\"data row2 col1\" >calendar month during which the trip was made</td>\n",
       "      <td id=\"T_0a91c_row2_col2\" class=\"data row2 col2\" >categorical</td>\n",
       "    </tr>\n",
       "    <tr>\n",
       "      <th id=\"T_0a91c_level0_row3\" class=\"row_heading level0 row3\" >3</th>\n",
       "      <td id=\"T_0a91c_row3_col0\" class=\"data row3 col0\" >location_from</td>\n",
       "      <td id=\"T_0a91c_row3_col1\" class=\"data row3 col1\" >start location of the trip</td>\n",
       "      <td id=\"T_0a91c_row3_col2\" class=\"data row3 col2\" >categorical</td>\n",
       "    </tr>\n",
       "    <tr>\n",
       "      <th id=\"T_0a91c_level0_row4\" class=\"row_heading level0 row4\" >4</th>\n",
       "      <td id=\"T_0a91c_row4_col0\" class=\"data row4 col0\" >location_to</td>\n",
       "      <td id=\"T_0a91c_row4_col1\" class=\"data row4 col1\" >end location of the trip</td>\n",
       "      <td id=\"T_0a91c_row4_col2\" class=\"data row4 col2\" >categorical</td>\n",
       "    </tr>\n",
       "    <tr>\n",
       "      <th id=\"T_0a91c_level0_row5\" class=\"row_heading level0 row5\" >5</th>\n",
       "      <td id=\"T_0a91c_row5_col0\" class=\"data row5 col0\" >duration</td>\n",
       "      <td id=\"T_0a91c_row5_col1\" class=\"data row5 col1\" >travel time in seconds</td>\n",
       "      <td id=\"T_0a91c_row5_col2\" class=\"data row5 col2\" >quantitative</td>\n",
       "    </tr>\n",
       "    <tr>\n",
       "      <th id=\"T_0a91c_level0_row6\" class=\"row_heading level0 row6\" >6</th>\n",
       "      <td id=\"T_0a91c_row6_col0\" class=\"data row6 col0\" >distance</td>\n",
       "      <td id=\"T_0a91c_row6_col1\" class=\"data row6 col1\" >travel distance in meters</td>\n",
       "      <td id=\"T_0a91c_row6_col2\" class=\"data row6 col2\" >quantitative</td>\n",
       "    </tr>\n",
       "    <tr>\n",
       "      <th id=\"T_0a91c_level0_row7\" class=\"row_heading level0 row7\" >7</th>\n",
       "      <td id=\"T_0a91c_row7_col0\" class=\"data row7 col0\" >assistance</td>\n",
       "      <td id=\"T_0a91c_row7_col1\" class=\"data row7 col1\" >status of electric assistance (0 = disabled, 1 = enabled)</td>\n",
       "      <td id=\"T_0a91c_row7_col2\" class=\"data row7 col2\" >categorical</td>\n",
       "    </tr>\n",
       "    <tr>\n",
       "      <th id=\"T_0a91c_level0_row8\" class=\"row_heading level0 row8\" >8</th>\n",
       "      <td id=\"T_0a91c_row8_col0\" class=\"data row8 col0\" >energy_used</td>\n",
       "      <td id=\"T_0a91c_row8_col1\" class=\"data row8 col1\" >energy consumed by the bike in watt-hours</td>\n",
       "      <td id=\"T_0a91c_row8_col2\" class=\"data row8 col2\" >quantitative</td>\n",
       "    </tr>\n",
       "    <tr>\n",
       "      <th id=\"T_0a91c_level0_row9\" class=\"row_heading level0 row9\" >9</th>\n",
       "      <td id=\"T_0a91c_row9_col0\" class=\"data row9 col0\" >energy_collected</td>\n",
       "      <td id=\"T_0a91c_row9_col1\" class=\"data row9 col1\" >energy collected by the bike in watt-hours</td>\n",
       "      <td id=\"T_0a91c_row9_col2\" class=\"data row9 col2\" >quantitative</td>\n",
       "    </tr>\n",
       "  </tbody>\n",
       "</table>\n"
      ],
      "text/plain": [
       "<pandas.io.formats.style.Styler at 0x7fd1eb74e050>"
      ]
     },
     "execution_count": 167,
     "metadata": {},
     "output_type": "execute_result"
    }
   ],
   "source": [
    "variable_descriptions = pd.read_csv('bikes_variables.csv', header=0)\n",
    "variable_descriptions.style"
   ]
  },
  {
   "cell_type": "markdown",
   "metadata": {},
   "source": [
    "Change the data type of categorical variables to 'category'."
   ]
  },
  {
   "cell_type": "code",
   "execution_count": 168,
   "metadata": {},
   "outputs": [
    {
     "name": "stdout",
     "output_type": "stream",
     "text": [
      "<class 'pandas.core.frame.DataFrame'>\n",
      "RangeIndex: 2000 entries, 0 to 1999\n",
      "Data columns (total 10 columns):\n",
      " #   Column            Non-Null Count  Dtype   \n",
      "---  ------            --------------  -----   \n",
      " 0   ticket            2000 non-null   category\n",
      " 1   cost              2000 non-null   float64 \n",
      " 2   month             2000 non-null   category\n",
      " 3   location_from     2000 non-null   category\n",
      " 4   location_to       2000 non-null   category\n",
      " 5   duration          2000 non-null   int64   \n",
      " 6   distance          2000 non-null   int64   \n",
      " 7   assistance        2000 non-null   category\n",
      " 8   energy_used       2000 non-null   float64 \n",
      " 9   energy_collected  2000 non-null   float64 \n",
      "dtypes: category(5), float64(3), int64(2)\n",
      "memory usage: 89.4 KB\n"
     ]
    }
   ],
   "source": [
    "categorical = variable_descriptions['Variable'].loc[variable_descriptions['Variable type'] == 'categorical']\n",
    "bike_data[categorical] = bike_data[categorical].astype('category')\n",
    "bike_data.info()"
   ]
  },
  {
   "cell_type": "markdown",
   "metadata": {},
   "source": [
    "### Calculating basic statistics for each variable."
   ]
  },
  {
   "cell_type": "code",
   "execution_count": 169,
   "metadata": {},
   "outputs": [
    {
     "data": {
      "text/html": [
       "<div>\n",
       "<style scoped>\n",
       "    .dataframe tbody tr th:only-of-type {\n",
       "        vertical-align: middle;\n",
       "    }\n",
       "\n",
       "    .dataframe tbody tr th {\n",
       "        vertical-align: top;\n",
       "    }\n",
       "\n",
       "    .dataframe thead th {\n",
       "        text-align: right;\n",
       "    }\n",
       "</style>\n",
       "<table border=\"1\" class=\"dataframe\">\n",
       "  <thead>\n",
       "    <tr style=\"text-align: right;\">\n",
       "      <th></th>\n",
       "      <th>cost</th>\n",
       "      <th>duration</th>\n",
       "      <th>distance</th>\n",
       "      <th>energy_used</th>\n",
       "      <th>energy_collected</th>\n",
       "    </tr>\n",
       "  </thead>\n",
       "  <tbody>\n",
       "    <tr>\n",
       "      <th>count</th>\n",
       "      <td>2000.00000</td>\n",
       "      <td>2000.000000</td>\n",
       "      <td>2000.00000</td>\n",
       "      <td>2000.000000</td>\n",
       "      <td>2000.000000</td>\n",
       "    </tr>\n",
       "    <tr>\n",
       "      <th>mean</th>\n",
       "      <td>0.22345</td>\n",
       "      <td>539.975500</td>\n",
       "      <td>1721.93000</td>\n",
       "      <td>11.761300</td>\n",
       "      <td>4.389300</td>\n",
       "    </tr>\n",
       "    <tr>\n",
       "      <th>std</th>\n",
       "      <td>0.47570</td>\n",
       "      <td>593.810888</td>\n",
       "      <td>2017.79918</td>\n",
       "      <td>15.573439</td>\n",
       "      <td>5.990604</td>\n",
       "    </tr>\n",
       "    <tr>\n",
       "      <th>min</th>\n",
       "      <td>0.00000</td>\n",
       "      <td>1.000000</td>\n",
       "      <td>-3320.00000</td>\n",
       "      <td>0.000000</td>\n",
       "      <td>0.000000</td>\n",
       "    </tr>\n",
       "    <tr>\n",
       "      <th>25%</th>\n",
       "      <td>0.00000</td>\n",
       "      <td>144.750000</td>\n",
       "      <td>40.00000</td>\n",
       "      <td>0.000000</td>\n",
       "      <td>0.000000</td>\n",
       "    </tr>\n",
       "    <tr>\n",
       "      <th>50%</th>\n",
       "      <td>0.00000</td>\n",
       "      <td>400.000000</td>\n",
       "      <td>1130.00000</td>\n",
       "      <td>7.100000</td>\n",
       "      <td>2.400000</td>\n",
       "    </tr>\n",
       "    <tr>\n",
       "      <th>75%</th>\n",
       "      <td>0.30000</td>\n",
       "      <td>736.750000</td>\n",
       "      <td>2572.50000</td>\n",
       "      <td>18.500000</td>\n",
       "      <td>6.900000</td>\n",
       "    </tr>\n",
       "    <tr>\n",
       "      <th>max</th>\n",
       "      <td>6.95000</td>\n",
       "      <td>8292.000000</td>\n",
       "      <td>19740.00000</td>\n",
       "      <td>184.300000</td>\n",
       "      <td>91.500000</td>\n",
       "    </tr>\n",
       "  </tbody>\n",
       "</table>\n",
       "</div>"
      ],
      "text/plain": [
       "             cost     duration     distance  energy_used  energy_collected\n",
       "count  2000.00000  2000.000000   2000.00000  2000.000000       2000.000000\n",
       "mean      0.22345   539.975500   1721.93000    11.761300          4.389300\n",
       "std       0.47570   593.810888   2017.79918    15.573439          5.990604\n",
       "min       0.00000     1.000000  -3320.00000     0.000000          0.000000\n",
       "25%       0.00000   144.750000     40.00000     0.000000          0.000000\n",
       "50%       0.00000   400.000000   1130.00000     7.100000          2.400000\n",
       "75%       0.30000   736.750000   2572.50000    18.500000          6.900000\n",
       "max       6.95000  8292.000000  19740.00000   184.300000         91.500000"
      ]
     },
     "execution_count": 169,
     "metadata": {},
     "output_type": "execute_result"
    }
   ],
   "source": [
    "bike_data.describe(exclude='category')"
   ]
  },
  {
   "cell_type": "markdown",
   "metadata": {},
   "source": [
    "Convert negative values to positive."
   ]
  },
  {
   "cell_type": "code",
   "execution_count": 170,
   "metadata": {},
   "outputs": [
    {
     "data": {
      "text/html": [
       "<div>\n",
       "<style scoped>\n",
       "    .dataframe tbody tr th:only-of-type {\n",
       "        vertical-align: middle;\n",
       "    }\n",
       "\n",
       "    .dataframe tbody tr th {\n",
       "        vertical-align: top;\n",
       "    }\n",
       "\n",
       "    .dataframe thead th {\n",
       "        text-align: right;\n",
       "    }\n",
       "</style>\n",
       "<table border=\"1\" class=\"dataframe\">\n",
       "  <thead>\n",
       "    <tr style=\"text-align: right;\">\n",
       "      <th></th>\n",
       "      <th>cost</th>\n",
       "      <th>duration</th>\n",
       "      <th>distance</th>\n",
       "      <th>energy_used</th>\n",
       "      <th>energy_collected</th>\n",
       "    </tr>\n",
       "  </thead>\n",
       "  <tbody>\n",
       "    <tr>\n",
       "      <th>count</th>\n",
       "      <td>2000.00000</td>\n",
       "      <td>2000.000000</td>\n",
       "      <td>2000.000000</td>\n",
       "      <td>2000.000000</td>\n",
       "      <td>2000.000000</td>\n",
       "    </tr>\n",
       "    <tr>\n",
       "      <th>mean</th>\n",
       "      <td>0.22345</td>\n",
       "      <td>539.975500</td>\n",
       "      <td>1726.960000</td>\n",
       "      <td>11.761300</td>\n",
       "      <td>4.389300</td>\n",
       "    </tr>\n",
       "    <tr>\n",
       "      <th>std</th>\n",
       "      <td>0.47570</td>\n",
       "      <td>593.810888</td>\n",
       "      <td>2013.493714</td>\n",
       "      <td>15.573439</td>\n",
       "      <td>5.990604</td>\n",
       "    </tr>\n",
       "    <tr>\n",
       "      <th>min</th>\n",
       "      <td>0.00000</td>\n",
       "      <td>1.000000</td>\n",
       "      <td>0.000000</td>\n",
       "      <td>0.000000</td>\n",
       "      <td>0.000000</td>\n",
       "    </tr>\n",
       "    <tr>\n",
       "      <th>25%</th>\n",
       "      <td>0.00000</td>\n",
       "      <td>144.750000</td>\n",
       "      <td>50.000000</td>\n",
       "      <td>0.000000</td>\n",
       "      <td>0.000000</td>\n",
       "    </tr>\n",
       "    <tr>\n",
       "      <th>50%</th>\n",
       "      <td>0.00000</td>\n",
       "      <td>400.000000</td>\n",
       "      <td>1130.000000</td>\n",
       "      <td>7.100000</td>\n",
       "      <td>2.400000</td>\n",
       "    </tr>\n",
       "    <tr>\n",
       "      <th>75%</th>\n",
       "      <td>0.30000</td>\n",
       "      <td>736.750000</td>\n",
       "      <td>2580.000000</td>\n",
       "      <td>18.500000</td>\n",
       "      <td>6.900000</td>\n",
       "    </tr>\n",
       "    <tr>\n",
       "      <th>max</th>\n",
       "      <td>6.95000</td>\n",
       "      <td>8292.000000</td>\n",
       "      <td>19740.000000</td>\n",
       "      <td>184.300000</td>\n",
       "      <td>91.500000</td>\n",
       "    </tr>\n",
       "  </tbody>\n",
       "</table>\n",
       "</div>"
      ],
      "text/plain": [
       "             cost     duration      distance  energy_used  energy_collected\n",
       "count  2000.00000  2000.000000   2000.000000  2000.000000       2000.000000\n",
       "mean      0.22345   539.975500   1726.960000    11.761300          4.389300\n",
       "std       0.47570   593.810888   2013.493714    15.573439          5.990604\n",
       "min       0.00000     1.000000      0.000000     0.000000          0.000000\n",
       "25%       0.00000   144.750000     50.000000     0.000000          0.000000\n",
       "50%       0.00000   400.000000   1130.000000     7.100000          2.400000\n",
       "75%       0.30000   736.750000   2580.000000    18.500000          6.900000\n",
       "max       6.95000  8292.000000  19740.000000   184.300000         91.500000"
      ]
     },
     "execution_count": 170,
     "metadata": {},
     "output_type": "execute_result"
    }
   ],
   "source": [
    "bike_data['distance'] = bike_data['distance'].apply(lambda x: np.abs(x))\n",
    "bike_data.describe()"
   ]
  },
  {
   "cell_type": "code",
   "execution_count": 171,
   "metadata": {},
   "outputs": [
    {
     "data": {
      "text/html": [
       "<div>\n",
       "<style scoped>\n",
       "    .dataframe tbody tr th:only-of-type {\n",
       "        vertical-align: middle;\n",
       "    }\n",
       "\n",
       "    .dataframe tbody tr th {\n",
       "        vertical-align: top;\n",
       "    }\n",
       "\n",
       "    .dataframe thead th {\n",
       "        text-align: right;\n",
       "    }\n",
       "</style>\n",
       "<table border=\"1\" class=\"dataframe\">\n",
       "  <thead>\n",
       "    <tr style=\"text-align: right;\">\n",
       "      <th></th>\n",
       "      <th>ticket</th>\n",
       "      <th>month</th>\n",
       "      <th>location_from</th>\n",
       "      <th>location_to</th>\n",
       "      <th>assistance</th>\n",
       "    </tr>\n",
       "  </thead>\n",
       "  <tbody>\n",
       "    <tr>\n",
       "      <th>count</th>\n",
       "      <td>2000</td>\n",
       "      <td>2000</td>\n",
       "      <td>2000</td>\n",
       "      <td>2000</td>\n",
       "      <td>2000</td>\n",
       "    </tr>\n",
       "    <tr>\n",
       "      <th>unique</th>\n",
       "      <td>3</td>\n",
       "      <td>7</td>\n",
       "      <td>10</td>\n",
       "      <td>10</td>\n",
       "      <td>2</td>\n",
       "    </tr>\n",
       "    <tr>\n",
       "      <th>top</th>\n",
       "      <td>season</td>\n",
       "      <td>6</td>\n",
       "      <td>TORI</td>\n",
       "      <td>TORI</td>\n",
       "      <td>1</td>\n",
       "    </tr>\n",
       "    <tr>\n",
       "      <th>freq</th>\n",
       "      <td>893</td>\n",
       "      <td>488</td>\n",
       "      <td>673</td>\n",
       "      <td>756</td>\n",
       "      <td>1633</td>\n",
       "    </tr>\n",
       "  </tbody>\n",
       "</table>\n",
       "</div>"
      ],
      "text/plain": [
       "        ticket  month location_from location_to  assistance\n",
       "count     2000   2000          2000        2000        2000\n",
       "unique       3      7            10          10           2\n",
       "top     season      6          TORI        TORI           1\n",
       "freq       893    488           673         756        1633"
      ]
     },
     "execution_count": 171,
     "metadata": {},
     "output_type": "execute_result"
    }
   ],
   "source": [
    "bike_data.describe(include='category')"
   ]
  },
  {
   "cell_type": "markdown",
   "metadata": {},
   "source": [
    "### Visualising the distribution of quantitative variables."
   ]
  },
  {
   "cell_type": "markdown",
   "metadata": {},
   "source": [
    "Check ticket costs for each type."
   ]
  },
  {
   "cell_type": "code",
   "execution_count": 172,
   "metadata": {},
   "outputs": [
    {
     "data": {
      "text/plain": [
       "ticket\n",
       "savonia      0.0\n",
       "season       8.0\n",
       "single     438.9\n",
       "Name: cost, dtype: float64"
      ]
     },
     "execution_count": 172,
     "metadata": {},
     "output_type": "execute_result"
    }
   ],
   "source": [
    "bike_data.groupby('ticket')['cost'].sum()"
   ]
  },
  {
   "cell_type": "code",
   "execution_count": 173,
   "metadata": {},
   "outputs": [
    {
     "data": {
      "text/html": [
       "<div>\n",
       "<style scoped>\n",
       "    .dataframe tbody tr th:only-of-type {\n",
       "        vertical-align: middle;\n",
       "    }\n",
       "\n",
       "    .dataframe tbody tr th {\n",
       "        vertical-align: top;\n",
       "    }\n",
       "\n",
       "    .dataframe thead th {\n",
       "        text-align: right;\n",
       "    }\n",
       "</style>\n",
       "<table border=\"1\" class=\"dataframe\">\n",
       "  <thead>\n",
       "    <tr style=\"text-align: right;\">\n",
       "      <th></th>\n",
       "      <th>ticket</th>\n",
       "      <th>cost</th>\n",
       "      <th>month</th>\n",
       "      <th>location_from</th>\n",
       "      <th>location_to</th>\n",
       "      <th>duration</th>\n",
       "      <th>distance</th>\n",
       "      <th>assistance</th>\n",
       "      <th>energy_used</th>\n",
       "      <th>energy_collected</th>\n",
       "    </tr>\n",
       "  </thead>\n",
       "  <tbody>\n",
       "    <tr>\n",
       "      <th>119</th>\n",
       "      <td>season</td>\n",
       "      <td>1.0</td>\n",
       "      <td>7</td>\n",
       "      <td>VÄINÖLÄNNIEMI</td>\n",
       "      <td>MICROTEKNIA</td>\n",
       "      <td>2232</td>\n",
       "      <td>6520</td>\n",
       "      <td>1</td>\n",
       "      <td>62.0</td>\n",
       "      <td>10.2</td>\n",
       "    </tr>\n",
       "    <tr>\n",
       "      <th>296</th>\n",
       "      <td>season</td>\n",
       "      <td>1.0</td>\n",
       "      <td>7</td>\n",
       "      <td>UIMAHALLI</td>\n",
       "      <td>RYPYSUO</td>\n",
       "      <td>2946</td>\n",
       "      <td>6000</td>\n",
       "      <td>1</td>\n",
       "      <td>47.8</td>\n",
       "      <td>15.9</td>\n",
       "    </tr>\n",
       "    <tr>\n",
       "      <th>741</th>\n",
       "      <td>season</td>\n",
       "      <td>1.0</td>\n",
       "      <td>5</td>\n",
       "      <td>TORI</td>\n",
       "      <td>TORI</td>\n",
       "      <td>2851</td>\n",
       "      <td>3920</td>\n",
       "      <td>0</td>\n",
       "      <td>0.0</td>\n",
       "      <td>9.0</td>\n",
       "    </tr>\n",
       "    <tr>\n",
       "      <th>785</th>\n",
       "      <td>season</td>\n",
       "      <td>1.0</td>\n",
       "      <td>8</td>\n",
       "      <td>VÄINÖLÄNNIEMI</td>\n",
       "      <td>VÄINÖLÄNNIEMI</td>\n",
       "      <td>2286</td>\n",
       "      <td>4370</td>\n",
       "      <td>1</td>\n",
       "      <td>31.7</td>\n",
       "      <td>12.0</td>\n",
       "    </tr>\n",
       "    <tr>\n",
       "      <th>1091</th>\n",
       "      <td>season</td>\n",
       "      <td>1.0</td>\n",
       "      <td>6</td>\n",
       "      <td>MICROTEKNIA</td>\n",
       "      <td>PETONEN</td>\n",
       "      <td>2014</td>\n",
       "      <td>6810</td>\n",
       "      <td>0</td>\n",
       "      <td>0.0</td>\n",
       "      <td>13.5</td>\n",
       "    </tr>\n",
       "    <tr>\n",
       "      <th>1323</th>\n",
       "      <td>season</td>\n",
       "      <td>1.0</td>\n",
       "      <td>8</td>\n",
       "      <td>TORI</td>\n",
       "      <td>SATAMA</td>\n",
       "      <td>1856</td>\n",
       "      <td>2770</td>\n",
       "      <td>1</td>\n",
       "      <td>22.4</td>\n",
       "      <td>7.5</td>\n",
       "    </tr>\n",
       "    <tr>\n",
       "      <th>1469</th>\n",
       "      <td>season</td>\n",
       "      <td>1.0</td>\n",
       "      <td>6</td>\n",
       "      <td>VÄINÖLÄNNIEMI</td>\n",
       "      <td>VÄINÖLÄNNIEMI</td>\n",
       "      <td>2422</td>\n",
       "      <td>7110</td>\n",
       "      <td>1</td>\n",
       "      <td>36.0</td>\n",
       "      <td>9.9</td>\n",
       "    </tr>\n",
       "    <tr>\n",
       "      <th>1630</th>\n",
       "      <td>season</td>\n",
       "      <td>1.0</td>\n",
       "      <td>7</td>\n",
       "      <td>VÄINÖLÄNNIEMI</td>\n",
       "      <td>VÄINÖLÄNNIEMI</td>\n",
       "      <td>3268</td>\n",
       "      <td>8940</td>\n",
       "      <td>1</td>\n",
       "      <td>80.6</td>\n",
       "      <td>21.9</td>\n",
       "    </tr>\n",
       "  </tbody>\n",
       "</table>\n",
       "</div>"
      ],
      "text/plain": [
       "      ticket  cost month  location_from    location_to  duration  distance  \\\n",
       "119   season   1.0     7  VÄINÖLÄNNIEMI    MICROTEKNIA      2232      6520   \n",
       "296   season   1.0     7      UIMAHALLI        RYPYSUO      2946      6000   \n",
       "741   season   1.0     5           TORI           TORI      2851      3920   \n",
       "785   season   1.0     8  VÄINÖLÄNNIEMI  VÄINÖLÄNNIEMI      2286      4370   \n",
       "1091  season   1.0     6    MICROTEKNIA        PETONEN      2014      6810   \n",
       "1323  season   1.0     8           TORI         SATAMA      1856      2770   \n",
       "1469  season   1.0     6  VÄINÖLÄNNIEMI  VÄINÖLÄNNIEMI      2422      7110   \n",
       "1630  season   1.0     7  VÄINÖLÄNNIEMI  VÄINÖLÄNNIEMI      3268      8940   \n",
       "\n",
       "     assistance  energy_used  energy_collected  \n",
       "119           1         62.0              10.2  \n",
       "296           1         47.8              15.9  \n",
       "741           0          0.0               9.0  \n",
       "785           1         31.7              12.0  \n",
       "1091          0          0.0              13.5  \n",
       "1323          1         22.4               7.5  \n",
       "1469          1         36.0               9.9  \n",
       "1630          1         80.6              21.9  "
      ]
     },
     "execution_count": 173,
     "metadata": {},
     "output_type": "execute_result"
    }
   ],
   "source": [
    "bike_data.loc[bike_data['ticket'] == 'season'].loc[bike_data['cost'] == 1]"
   ]
  },
  {
   "cell_type": "markdown",
   "metadata": {},
   "source": [
    "Only single tickets have a per-trip-cost. The cost on seasonal tickets is assumed to be an extra cost for long distance trips."
   ]
  },
  {
   "cell_type": "code",
   "execution_count": 174,
   "metadata": {},
   "outputs": [
    {
     "data": {
      "text/plain": [
       "Text(0.5, 1.0, 'Single ticket costs')"
      ]
     },
     "execution_count": 174,
     "metadata": {},
     "output_type": "execute_result"
    },
    {
     "data": {
      "image/png": "[encoded data removed]",
      "text/plain": [
       "<Figure size 640x480 with 1 Axes>"
      ]
     },
     "metadata": {},
     "output_type": "display_data"
    }
   ],
   "source": [
    "ax_cost = bike_data.loc[bike_data['ticket'] == 'single'].plot.hist(column='cost', bins=50, range=(0,bike_data['cost'].max()), legend=False)\n",
    "# Set xlabel to the ax because it did not work as an argument to hist()\n",
    "ax_cost.set_xlabel('Ticket cost in euros')\n",
    "ax_cost.set_title('Single ticket costs')\n"
   ]
  },
  {
   "cell_type": "code",
   "execution_count": 175,
   "metadata": {},
   "outputs": [
    {
     "data": {
      "text/plain": [
       "Text(0.5, 1.0, 'Rental duration')"
      ]
     },
     "execution_count": 175,
     "metadata": {},
     "output_type": "execute_result"
    },
    {
     "data": {
      "image/png": "[encoded data removed]",
      "text/plain": [
       "<Figure size 640x480 with 1 Axes>"
      ]
     },
     "metadata": {},
     "output_type": "display_data"
    }
   ],
   "source": [
    "ax_duration = bike_data.plot.hist(column='duration', bins=50, range=(0,bike_data['duration'].max()), legend=False)\n",
    "ax_duration.set_xlabel('Duration in seconds')\n",
    "ax_duration.set_title('Rental duration')"
   ]
  },
  {
   "cell_type": "code",
   "execution_count": 176,
   "metadata": {},
   "outputs": [
    {
     "data": {
      "text/plain": [
       "Text(0.5, 1.0, 'Travel distance')"
      ]
     },
     "execution_count": 176,
     "metadata": {},
     "output_type": "execute_result"
    },
    {
     "data": {
      "image/png": "[encoded data removed]",
      "text/plain": [
       "<Figure size 640x480 with 1 Axes>"
      ]
     },
     "metadata": {},
     "output_type": "display_data"
    }
   ],
   "source": [
    "ax_distance = bike_data.plot.hist(column='distance', bins=50, range=(0,bike_data['distance'].max()), legend=False)\n",
    "ax_distance.set_xlabel('Travel distance in meters')\n",
    "ax_distance.set_title('Travel distance')"
   ]
  },
  {
   "cell_type": "markdown",
   "metadata": {},
   "source": [
    "Setting zero values to NaN."
   ]
  },
  {
   "cell_type": "code",
   "execution_count": 177,
   "metadata": {},
   "outputs": [
    {
     "data": {
      "text/plain": [
       "NaN       430\n",
       "930.0      40\n",
       "940.0      37\n",
       "710.0      35\n",
       "10.0       32\n",
       "         ... \n",
       "3480.0      1\n",
       "6050.0      1\n",
       "6140.0      1\n",
       "220.0       1\n",
       "4800.0      1\n",
       "Name: distance, Length: 479, dtype: int64"
      ]
     },
     "execution_count": 177,
     "metadata": {},
     "output_type": "execute_result"
    }
   ],
   "source": [
    "bike_data['distance'] = bike_data['distance'].replace(0, np.nan)\n",
    "bike_data['distance'].value_counts(dropna=False)"
   ]
  },
  {
   "cell_type": "markdown",
   "metadata": {},
   "source": [
    "Energy used is considered only when assistance was used."
   ]
  },
  {
   "cell_type": "code",
   "execution_count": 178,
   "metadata": {},
   "outputs": [
    {
     "data": {
      "text/plain": [
       "<AxesSubplot:title={'center':'Energy used when assistance was used'}, xlabel='Energy used in watt-hours', ylabel='Frequency'>"
      ]
     },
     "execution_count": 178,
     "metadata": {},
     "output_type": "execute_result"
    },
    {
     "data": {
      "image/png": "[encoded data removed]",
      "text/plain": [
       "<Figure size 640x480 with 1 Axes>"
      ]
     },
     "metadata": {},
     "output_type": "display_data"
    }
   ],
   "source": [
    "ax_energy_used = bike_data.loc[bike_data['assistance'] == 1].plot.hist(column='energy_used', bins=50, range=(0,bike_data['energy_used'].max()), legend=False)\n",
    "ax_energy_used.set_xlabel('Energy used in watt-hours')\n",
    "ax_energy_used.set_title('Energy used when assistance was used')\n",
    "ax_energy_used"
   ]
  },
  {
   "cell_type": "code",
   "execution_count": 179,
   "metadata": {},
   "outputs": [
    {
     "data": {
      "text/plain": [
       "<AxesSubplot:title={'center':'Energy collected'}, xlabel='Energy collected in watt-hours', ylabel='Frequency'>"
      ]
     },
     "execution_count": 179,
     "metadata": {},
     "output_type": "execute_result"
    },
    {
     "data": {
      "image/png": "[encoded data removed]",
      "text/plain": [
       "<Figure size 640x480 with 1 Axes>"
      ]
     },
     "metadata": {},
     "output_type": "display_data"
    }
   ],
   "source": [
    "ax_energy_collected = bike_data.plot.hist(column='energy_collected', bins=50, range=(0,bike_data['energy_collected'].max()), legend=False)\n",
    "ax_energy_collected.set_xlabel('Energy collected in watt-hours')\n",
    "ax_energy_collected.set_title('Energy collected')\n",
    "ax_energy_collected"
   ]
  },
  {
   "cell_type": "markdown",
   "metadata": {},
   "source": [
    "### Visualising the distribution of categorical variables."
   ]
  },
  {
   "cell_type": "code",
   "execution_count": 180,
   "metadata": {},
   "outputs": [
    {
     "data": {
      "text/plain": [
       "<AxesSubplot:title={'center':'Ticket counts'}>"
      ]
     },
     "execution_count": 180,
     "metadata": {},
     "output_type": "execute_result"
    },
    {
     "data": {
      "image/png": "[encoded data removed]",
      "text/plain": [
       "<Figure size 640x480 with 1 Axes>"
      ]
     },
     "metadata": {},
     "output_type": "display_data"
    }
   ],
   "source": [
    "bike_data['ticket'].value_counts().plot.bar(title='Ticket counts')"
   ]
  },
  {
   "cell_type": "code",
   "execution_count": 181,
   "metadata": {},
   "outputs": [
    {
     "data": {
      "text/plain": [
       "<AxesSubplot:title={'center':'Monthly rentals'}>"
      ]
     },
     "execution_count": 181,
     "metadata": {},
     "output_type": "execute_result"
    },
    {
     "data": {
      "image/png": "[encoded data removed]",
      "text/plain": [
       "<Figure size 640x480 with 1 Axes>"
      ]
     },
     "metadata": {},
     "output_type": "display_data"
    }
   ],
   "source": [
    "import calendar\n",
    "bike_data_month = bike_data['month'].apply(lambda x: calendar.month_abbr[x])\n",
    "bike_data_month.value_counts(sort=False).plot.bar(title='Monthly rentals')"
   ]
  },
  {
   "cell_type": "code",
   "execution_count": 182,
   "metadata": {},
   "outputs": [
    {
     "data": {
      "text/plain": [
       "<AxesSubplot:title={'center':'Rental start location'}>"
      ]
     },
     "execution_count": 182,
     "metadata": {},
     "output_type": "execute_result"
    },
    {
     "data": {
      "image/png": "[encoded data removed]",
      "text/plain": [
       "<Figure size 640x480 with 1 Axes>"
      ]
     },
     "metadata": {},
     "output_type": "display_data"
    }
   ],
   "source": [
    "bike_data['location_from'].value_counts().plot.bar(title='Rental start location')"
   ]
  },
  {
   "cell_type": "code",
   "execution_count": 183,
   "metadata": {},
   "outputs": [
    {
     "data": {
      "text/plain": [
       "<AxesSubplot:title={'center':'Rental end location'}>"
      ]
     },
     "execution_count": 183,
     "metadata": {},
     "output_type": "execute_result"
    },
    {
     "data": {
      "image/png": "[encoded data removed]",
      "text/plain": [
       "<Figure size 640x480 with 1 Axes>"
      ]
     },
     "metadata": {},
     "output_type": "display_data"
    }
   ],
   "source": [
    "bike_data['location_to'].value_counts().plot.bar(title='Rental end location')"
   ]
  },
  {
   "cell_type": "code",
   "execution_count": 184,
   "metadata": {},
   "outputs": [
    {
     "data": {
      "text/plain": [
       "<AxesSubplot:title={'center':'Assistance used'}>"
      ]
     },
     "execution_count": 184,
     "metadata": {},
     "output_type": "execute_result"
    },
    {
     "data": {
      "image/png": "[encoded data removed]",
      "text/plain": [
       "<Figure size 640x480 with 1 Axes>"
      ]
     },
     "metadata": {},
     "output_type": "display_data"
    }
   ],
   "source": [
    "ax_assistance = bike_data['assistance'].value_counts().plot.bar(title='Assistance used')\n",
    "ax_assistance.set_xticklabels(['yes', 'no'], rotation=0)\n",
    "ax_assistance"
   ]
  },
  {
   "cell_type": "markdown",
   "metadata": {},
   "source": [
    "## Data exploration"
   ]
  },
  {
   "cell_type": "markdown",
   "metadata": {},
   "source": [
    "### Calculating the total distance travelled, the total time travelled, and the total amount of fees paid per ticket type."
   ]
  },
  {
   "cell_type": "code",
   "execution_count": 185,
   "metadata": {},
   "outputs": [
    {
     "data": {
      "text/html": [
       "<div>\n",
       "<style scoped>\n",
       "    .dataframe tbody tr th:only-of-type {\n",
       "        vertical-align: middle;\n",
       "    }\n",
       "\n",
       "    .dataframe tbody tr th {\n",
       "        vertical-align: top;\n",
       "    }\n",
       "\n",
       "    .dataframe thead th {\n",
       "        text-align: right;\n",
       "    }\n",
       "</style>\n",
       "<table border=\"1\" class=\"dataframe\">\n",
       "  <thead>\n",
       "    <tr style=\"text-align: right;\">\n",
       "      <th></th>\n",
       "      <th>distance</th>\n",
       "      <th>duration</th>\n",
       "      <th>cost</th>\n",
       "    </tr>\n",
       "    <tr>\n",
       "      <th>ticket</th>\n",
       "      <th></th>\n",
       "      <th></th>\n",
       "      <th></th>\n",
       "    </tr>\n",
       "  </thead>\n",
       "  <tbody>\n",
       "    <tr>\n",
       "      <th>savonia</th>\n",
       "      <td>408590.0</td>\n",
       "      <td>122618</td>\n",
       "      <td>0.0</td>\n",
       "    </tr>\n",
       "    <tr>\n",
       "      <th>season</th>\n",
       "      <td>1419250.0</td>\n",
       "      <td>459643</td>\n",
       "      <td>8.0</td>\n",
       "    </tr>\n",
       "    <tr>\n",
       "      <th>single</th>\n",
       "      <td>1626080.0</td>\n",
       "      <td>497690</td>\n",
       "      <td>438.9</td>\n",
       "    </tr>\n",
       "  </tbody>\n",
       "</table>\n",
       "</div>"
      ],
      "text/plain": [
       "          distance  duration   cost\n",
       "ticket                             \n",
       "savonia   408590.0    122618    0.0\n",
       "season   1419250.0    459643    8.0\n",
       "single   1626080.0    497690  438.9"
      ]
     },
     "execution_count": 185,
     "metadata": {},
     "output_type": "execute_result"
    }
   ],
   "source": [
    "bike_data.groupby('ticket')[['distance', 'duration', 'cost']].sum()"
   ]
  },
  {
   "cell_type": "markdown",
   "metadata": {},
   "source": [
    "Taking a closer look in season ticket costs."
   ]
  },
  {
   "cell_type": "code",
   "execution_count": 186,
   "metadata": {},
   "outputs": [
    {
     "data": {
      "text/html": [
       "<div>\n",
       "<style scoped>\n",
       "    .dataframe tbody tr th:only-of-type {\n",
       "        vertical-align: middle;\n",
       "    }\n",
       "\n",
       "    .dataframe tbody tr th {\n",
       "        vertical-align: top;\n",
       "    }\n",
       "\n",
       "    .dataframe thead th {\n",
       "        text-align: right;\n",
       "    }\n",
       "</style>\n",
       "<table border=\"1\" class=\"dataframe\">\n",
       "  <thead>\n",
       "    <tr style=\"text-align: right;\">\n",
       "      <th></th>\n",
       "      <th>ticket</th>\n",
       "      <th>cost</th>\n",
       "      <th>month</th>\n",
       "      <th>location_from</th>\n",
       "      <th>location_to</th>\n",
       "      <th>duration</th>\n",
       "      <th>distance</th>\n",
       "      <th>assistance</th>\n",
       "      <th>energy_used</th>\n",
       "      <th>energy_collected</th>\n",
       "    </tr>\n",
       "  </thead>\n",
       "  <tbody>\n",
       "    <tr>\n",
       "      <th>119</th>\n",
       "      <td>season</td>\n",
       "      <td>1.0</td>\n",
       "      <td>7</td>\n",
       "      <td>VÄINÖLÄNNIEMI</td>\n",
       "      <td>MICROTEKNIA</td>\n",
       "      <td>2232</td>\n",
       "      <td>6520.0</td>\n",
       "      <td>1</td>\n",
       "      <td>62.0</td>\n",
       "      <td>10.2</td>\n",
       "    </tr>\n",
       "    <tr>\n",
       "      <th>296</th>\n",
       "      <td>season</td>\n",
       "      <td>1.0</td>\n",
       "      <td>7</td>\n",
       "      <td>UIMAHALLI</td>\n",
       "      <td>RYPYSUO</td>\n",
       "      <td>2946</td>\n",
       "      <td>6000.0</td>\n",
       "      <td>1</td>\n",
       "      <td>47.8</td>\n",
       "      <td>15.9</td>\n",
       "    </tr>\n",
       "    <tr>\n",
       "      <th>741</th>\n",
       "      <td>season</td>\n",
       "      <td>1.0</td>\n",
       "      <td>5</td>\n",
       "      <td>TORI</td>\n",
       "      <td>TORI</td>\n",
       "      <td>2851</td>\n",
       "      <td>3920.0</td>\n",
       "      <td>0</td>\n",
       "      <td>0.0</td>\n",
       "      <td>9.0</td>\n",
       "    </tr>\n",
       "    <tr>\n",
       "      <th>785</th>\n",
       "      <td>season</td>\n",
       "      <td>1.0</td>\n",
       "      <td>8</td>\n",
       "      <td>VÄINÖLÄNNIEMI</td>\n",
       "      <td>VÄINÖLÄNNIEMI</td>\n",
       "      <td>2286</td>\n",
       "      <td>4370.0</td>\n",
       "      <td>1</td>\n",
       "      <td>31.7</td>\n",
       "      <td>12.0</td>\n",
       "    </tr>\n",
       "    <tr>\n",
       "      <th>1091</th>\n",
       "      <td>season</td>\n",
       "      <td>1.0</td>\n",
       "      <td>6</td>\n",
       "      <td>MICROTEKNIA</td>\n",
       "      <td>PETONEN</td>\n",
       "      <td>2014</td>\n",
       "      <td>6810.0</td>\n",
       "      <td>0</td>\n",
       "      <td>0.0</td>\n",
       "      <td>13.5</td>\n",
       "    </tr>\n",
       "    <tr>\n",
       "      <th>1323</th>\n",
       "      <td>season</td>\n",
       "      <td>1.0</td>\n",
       "      <td>8</td>\n",
       "      <td>TORI</td>\n",
       "      <td>SATAMA</td>\n",
       "      <td>1856</td>\n",
       "      <td>2770.0</td>\n",
       "      <td>1</td>\n",
       "      <td>22.4</td>\n",
       "      <td>7.5</td>\n",
       "    </tr>\n",
       "    <tr>\n",
       "      <th>1469</th>\n",
       "      <td>season</td>\n",
       "      <td>1.0</td>\n",
       "      <td>6</td>\n",
       "      <td>VÄINÖLÄNNIEMI</td>\n",
       "      <td>VÄINÖLÄNNIEMI</td>\n",
       "      <td>2422</td>\n",
       "      <td>7110.0</td>\n",
       "      <td>1</td>\n",
       "      <td>36.0</td>\n",
       "      <td>9.9</td>\n",
       "    </tr>\n",
       "    <tr>\n",
       "      <th>1630</th>\n",
       "      <td>season</td>\n",
       "      <td>1.0</td>\n",
       "      <td>7</td>\n",
       "      <td>VÄINÖLÄNNIEMI</td>\n",
       "      <td>VÄINÖLÄNNIEMI</td>\n",
       "      <td>3268</td>\n",
       "      <td>8940.0</td>\n",
       "      <td>1</td>\n",
       "      <td>80.6</td>\n",
       "      <td>21.9</td>\n",
       "    </tr>\n",
       "  </tbody>\n",
       "</table>\n",
       "</div>"
      ],
      "text/plain": [
       "      ticket  cost month  location_from    location_to  duration  distance  \\\n",
       "119   season   1.0     7  VÄINÖLÄNNIEMI    MICROTEKNIA      2232    6520.0   \n",
       "296   season   1.0     7      UIMAHALLI        RYPYSUO      2946    6000.0   \n",
       "741   season   1.0     5           TORI           TORI      2851    3920.0   \n",
       "785   season   1.0     8  VÄINÖLÄNNIEMI  VÄINÖLÄNNIEMI      2286    4370.0   \n",
       "1091  season   1.0     6    MICROTEKNIA        PETONEN      2014    6810.0   \n",
       "1323  season   1.0     8           TORI         SATAMA      1856    2770.0   \n",
       "1469  season   1.0     6  VÄINÖLÄNNIEMI  VÄINÖLÄNNIEMI      2422    7110.0   \n",
       "1630  season   1.0     7  VÄINÖLÄNNIEMI  VÄINÖLÄNNIEMI      3268    8940.0   \n",
       "\n",
       "     assistance  energy_used  energy_collected  \n",
       "119           1         62.0              10.2  \n",
       "296           1         47.8              15.9  \n",
       "741           0          0.0               9.0  \n",
       "785           1         31.7              12.0  \n",
       "1091          0          0.0              13.5  \n",
       "1323          1         22.4               7.5  \n",
       "1469          1         36.0               9.9  \n",
       "1630          1         80.6              21.9  "
      ]
     },
     "execution_count": 186,
     "metadata": {},
     "output_type": "execute_result"
    }
   ],
   "source": [
    "bike_data.loc[bike_data['ticket'] == 'season'].loc[bike_data['cost'] == 1]"
   ]
  },
  {
   "cell_type": "markdown",
   "metadata": {},
   "source": [
    "Only single tickets have a per-trip-cost. The cost on seasonal tickets is assumed to be an extra cost for long distance trips."
   ]
  },
  {
   "cell_type": "markdown",
   "metadata": {},
   "source": [
    "### Calculating the mean distance travelled, the mean energy consumed, and the mean energy collected per status of assistance."
   ]
  },
  {
   "cell_type": "code",
   "execution_count": 187,
   "metadata": {},
   "outputs": [
    {
     "data": {
      "text/html": [
       "<div>\n",
       "<style scoped>\n",
       "    .dataframe tbody tr th:only-of-type {\n",
       "        vertical-align: middle;\n",
       "    }\n",
       "\n",
       "    .dataframe tbody tr th {\n",
       "        vertical-align: top;\n",
       "    }\n",
       "\n",
       "    .dataframe thead th {\n",
       "        text-align: right;\n",
       "    }\n",
       "</style>\n",
       "<table border=\"1\" class=\"dataframe\">\n",
       "  <thead>\n",
       "    <tr style=\"text-align: right;\">\n",
       "      <th></th>\n",
       "      <th>distance</th>\n",
       "      <th>energy_used</th>\n",
       "      <th>energy_collected</th>\n",
       "    </tr>\n",
       "    <tr>\n",
       "      <th>assistance</th>\n",
       "      <th></th>\n",
       "      <th></th>\n",
       "      <th></th>\n",
       "    </tr>\n",
       "  </thead>\n",
       "  <tbody>\n",
       "    <tr>\n",
       "      <th>no</th>\n",
       "      <td>1491.116279</td>\n",
       "      <td>0.000000</td>\n",
       "      <td>1.661853</td>\n",
       "    </tr>\n",
       "    <tr>\n",
       "      <th>yes</th>\n",
       "      <td>2312.420664</td>\n",
       "      <td>14.404532</td>\n",
       "      <td>5.002266</td>\n",
       "    </tr>\n",
       "  </tbody>\n",
       "</table>\n",
       "</div>"
      ],
      "text/plain": [
       "               distance  energy_used  energy_collected\n",
       "assistance                                            \n",
       "no          1491.116279     0.000000          1.661853\n",
       "yes         2312.420664    14.404532          5.002266"
      ]
     },
     "execution_count": 187,
     "metadata": {},
     "output_type": "execute_result"
    }
   ],
   "source": [
    "grouped_assistance = bike_data.groupby('assistance')[['distance', 'energy_used', 'energy_collected']].mean()\n",
    "grouped_assistance = grouped_assistance.rename(index={0: 'no', 1:'yes'})\n",
    "grouped_assistance"
   ]
  },
  {
   "cell_type": "code",
   "execution_count": 188,
   "metadata": {},
   "outputs": [
    {
     "name": "stdout",
     "output_type": "stream",
     "text": [
      "assistance\n",
      "no     0.001115\n",
      "yes    0.002163\n",
      "dtype: float64\n"
     ]
    }
   ],
   "source": [
    "print(grouped_assistance['energy_collected']/grouped_assistance['distance'] )"
   ]
  },
  {
   "cell_type": "markdown",
   "metadata": {},
   "source": [
    "Based on the mean values, the bikes collect more energy per distance travelled when assistance is used."
   ]
  },
  {
   "cell_type": "markdown",
   "metadata": {},
   "source": [
    "### Finding the three most popular locations per ticket type in terms of the number of trips that either started or ended at the location."
   ]
  },
  {
   "cell_type": "code",
   "execution_count": 189,
   "metadata": {},
   "outputs": [
    {
     "data": {
      "text/html": [
       "<div>\n",
       "<style scoped>\n",
       "    .dataframe tbody tr th:only-of-type {\n",
       "        vertical-align: middle;\n",
       "    }\n",
       "\n",
       "    .dataframe tbody tr th {\n",
       "        vertical-align: top;\n",
       "    }\n",
       "\n",
       "    .dataframe thead th {\n",
       "        text-align: right;\n",
       "    }\n",
       "</style>\n",
       "<table border=\"1\" class=\"dataframe\">\n",
       "  <thead>\n",
       "    <tr style=\"text-align: right;\">\n",
       "      <th>ticket</th>\n",
       "      <th>savonia</th>\n",
       "      <th>season</th>\n",
       "      <th>single</th>\n",
       "    </tr>\n",
       "  </thead>\n",
       "  <tbody>\n",
       "    <tr>\n",
       "      <th>KYS</th>\n",
       "      <td>24</td>\n",
       "      <td>124</td>\n",
       "      <td>99</td>\n",
       "    </tr>\n",
       "    <tr>\n",
       "      <th>MICROTEKNIA</th>\n",
       "      <td>140</td>\n",
       "      <td>133</td>\n",
       "      <td>120</td>\n",
       "    </tr>\n",
       "    <tr>\n",
       "      <th>PETONEN</th>\n",
       "      <td>4</td>\n",
       "      <td>65</td>\n",
       "      <td>42</td>\n",
       "    </tr>\n",
       "    <tr>\n",
       "      <th>RYPYSUO</th>\n",
       "      <td>13</td>\n",
       "      <td>87</td>\n",
       "      <td>81</td>\n",
       "    </tr>\n",
       "    <tr>\n",
       "      <th>SATAMA</th>\n",
       "      <td>42</td>\n",
       "      <td>288</td>\n",
       "      <td>314</td>\n",
       "    </tr>\n",
       "    <tr>\n",
       "      <th>SNELLMANIA</th>\n",
       "      <td>44</td>\n",
       "      <td>86</td>\n",
       "      <td>92</td>\n",
       "    </tr>\n",
       "    <tr>\n",
       "      <th>TEATTERI</th>\n",
       "      <td>26</td>\n",
       "      <td>151</td>\n",
       "      <td>159</td>\n",
       "    </tr>\n",
       "    <tr>\n",
       "      <th>TORI</th>\n",
       "      <td>127</td>\n",
       "      <td>631</td>\n",
       "      <td>671</td>\n",
       "    </tr>\n",
       "    <tr>\n",
       "      <th>UIMAHALLI</th>\n",
       "      <td>10</td>\n",
       "      <td>57</td>\n",
       "      <td>41</td>\n",
       "    </tr>\n",
       "    <tr>\n",
       "      <th>VÄINÖLÄNNIEMI</th>\n",
       "      <td>6</td>\n",
       "      <td>164</td>\n",
       "      <td>159</td>\n",
       "    </tr>\n",
       "  </tbody>\n",
       "</table>\n",
       "</div>"
      ],
      "text/plain": [
       "ticket         savonia  season  single\n",
       "KYS                 24     124      99\n",
       "MICROTEKNIA        140     133     120\n",
       "PETONEN              4      65      42\n",
       "RYPYSUO             13      87      81\n",
       "SATAMA              42     288     314\n",
       "SNELLMANIA          44      86      92\n",
       "TEATTERI            26     151     159\n",
       "TORI               127     631     671\n",
       "UIMAHALLI           10      57      41\n",
       "VÄINÖLÄNNIEMI        6     164     159"
      ]
     },
     "execution_count": 189,
     "metadata": {},
     "output_type": "execute_result"
    }
   ],
   "source": [
    "grouped_ticket_location = bike_data.groupby('ticket')[['location_from', 'location_to']]\n",
    "trips = grouped_ticket_location.apply(lambda row: row['location_from'].value_counts() + row['location_to'].value_counts())\n",
    "trips = trips.transpose()\n",
    "trips"
   ]
  },
  {
   "cell_type": "markdown",
   "metadata": {},
   "source": [
    "Check that the sum of all locations is double the amount of trips made i.e. 4000."
   ]
  },
  {
   "cell_type": "code",
   "execution_count": 190,
   "metadata": {},
   "outputs": [
    {
     "data": {
      "text/plain": [
       "4000"
      ]
     },
     "execution_count": 190,
     "metadata": {},
     "output_type": "execute_result"
    }
   ],
   "source": [
    "trips.values.sum()"
   ]
  },
  {
   "cell_type": "markdown",
   "metadata": {},
   "source": [
    "Calculate most popular locations."
   ]
  },
  {
   "cell_type": "code",
   "execution_count": 191,
   "metadata": {},
   "outputs": [],
   "source": [
    "savo = trips['savonia'].nlargest(n=3).index.to_numpy()\n",
    "seas = trips['season'].nlargest(n=3).index.to_numpy()\n",
    "sing = trips['single'].nlargest(n=3).index.to_numpy()\n",
    "popular = pd.DataFrame({'savonia': savo, 'season': seas, 'single': sing}, index=['1st', '2nd', '3rd'])"
   ]
  },
  {
   "cell_type": "markdown",
   "metadata": {},
   "source": [
    "#### Most popular locations are:"
   ]
  },
  {
   "cell_type": "code",
   "execution_count": 192,
   "metadata": {},
   "outputs": [
    {
     "data": {
      "text/html": [
       "<div>\n",
       "<style scoped>\n",
       "    .dataframe tbody tr th:only-of-type {\n",
       "        vertical-align: middle;\n",
       "    }\n",
       "\n",
       "    .dataframe tbody tr th {\n",
       "        vertical-align: top;\n",
       "    }\n",
       "\n",
       "    .dataframe thead th {\n",
       "        text-align: right;\n",
       "    }\n",
       "</style>\n",
       "<table border=\"1\" class=\"dataframe\">\n",
       "  <thead>\n",
       "    <tr style=\"text-align: right;\">\n",
       "      <th></th>\n",
       "      <th>savonia</th>\n",
       "      <th>season</th>\n",
       "      <th>single</th>\n",
       "    </tr>\n",
       "  </thead>\n",
       "  <tbody>\n",
       "    <tr>\n",
       "      <th>1st</th>\n",
       "      <td>MICROTEKNIA</td>\n",
       "      <td>TORI</td>\n",
       "      <td>TORI</td>\n",
       "    </tr>\n",
       "    <tr>\n",
       "      <th>2nd</th>\n",
       "      <td>TORI</td>\n",
       "      <td>SATAMA</td>\n",
       "      <td>SATAMA</td>\n",
       "    </tr>\n",
       "    <tr>\n",
       "      <th>3rd</th>\n",
       "      <td>SNELLMANIA</td>\n",
       "      <td>VÄINÖLÄNNIEMI</td>\n",
       "      <td>TEATTERI</td>\n",
       "    </tr>\n",
       "  </tbody>\n",
       "</table>\n",
       "</div>"
      ],
      "text/plain": [
       "         savonia         season    single\n",
       "1st  MICROTEKNIA           TORI      TORI\n",
       "2nd         TORI         SATAMA    SATAMA\n",
       "3rd   SNELLMANIA  VÄINÖLÄNNIEMI  TEATTERI"
      ]
     },
     "execution_count": 192,
     "metadata": {},
     "output_type": "execute_result"
    }
   ],
   "source": [
    "popular"
   ]
  },
  {
   "cell_type": "markdown",
   "metadata": {},
   "source": [
    "Tori is the overall most popular location for starting and ending rentals."
   ]
  },
  {
   "cell_type": "markdown",
   "metadata": {},
   "source": [
    "### Visualising monthly rental activity per ticket type in terms of total distance travelled."
   ]
  },
  {
   "cell_type": "code",
   "execution_count": 193,
   "metadata": {},
   "outputs": [
    {
     "data": {
      "text/plain": [
       "<AxesSubplot:title={'center':'Monthly rental activity'}, xlabel='Ticket type', ylabel='Total distance travelled in meters'>"
      ]
     },
     "execution_count": 193,
     "metadata": {},
     "output_type": "execute_result"
    },
    {
     "data": {
      "image/png": "[encoded data removed]",
      "text/plain": [
       "<Figure size 640x480 with 1 Axes>"
      ]
     },
     "metadata": {},
     "output_type": "display_data"
    }
   ],
   "source": [
    "monthly_distance = bike_data.groupby(['ticket',  'month'])['distance'].sum()\n",
    "ax_monthly = monthly_distance.unstack().plot.bar(title='Monthly rental activity', xlabel='Ticket type', ylabel='Total distance travelled in meters', rot=0, colormap='summer')\n",
    "month_dict = {'April':4, 'May':5, 'June':6, 'July':7, 'August':8, 'September':9, 'October':10}\n",
    "ax_monthly.legend(month_dict)\n",
    "ax_monthly"
   ]
  },
  {
   "cell_type": "markdown",
   "metadata": {},
   "source": [
    "### Visualising the distribution of net energy gain, which is defined as the difference between the energy collected and consumed during a trip."
   ]
  },
  {
   "cell_type": "code",
   "execution_count": 194,
   "metadata": {},
   "outputs": [
    {
     "data": {
      "text/plain": [
       "Text(0.5, 0, 'Net energy in watt-hours')"
      ]
     },
     "execution_count": 194,
     "metadata": {},
     "output_type": "execute_result"
    },
    {
     "data": {
      "image/png": "[encoded data removed]",
      "text/plain": [
       "<Figure size 640x480 with 1 Axes>"
      ]
     },
     "metadata": {},
     "output_type": "display_data"
    }
   ],
   "source": [
    "net_energy = bike_data['energy_collected'] - bike_data['energy_used']\n",
    "ax_energy = net_energy.plot.hist(bins=80)\n",
    "ax_energy.set_title('Net energy gain')\n",
    "ax_energy.set_xlabel('Net energy in watt-hours')"
   ]
  },
  {
   "cell_type": "code",
   "execution_count": 195,
   "metadata": {},
   "outputs": [
    {
     "name": "stdout",
     "output_type": "stream",
     "text": [
      "Mode: 0.0\n"
     ]
    }
   ],
   "source": [
    "print('Mode: ' + str(net_energy.mode()[0]))"
   ]
  },
  {
   "cell_type": "markdown",
   "metadata": {},
   "source": [
    "### Visualising the pairwise relationships between the quantitative variables."
   ]
  },
  {
   "cell_type": "code",
   "execution_count": 196,
   "metadata": {},
   "outputs": [
    {
     "data": {
      "image/png": "[encoded data removed]",
      "text/plain": [
       "<Figure size 1200x1200 with 25 Axes>"
      ]
     },
     "metadata": {},
     "output_type": "display_data"
    }
   ],
   "source": [
    "matrix = pd.plotting.scatter_matrix(bike_data, figsize=(12,12))"
   ]
  },
  {
   "cell_type": "markdown",
   "metadata": {},
   "source": [
    "Cost is linearly dependent on duration when using a single ticket."
   ]
  },
  {
   "cell_type": "markdown",
   "metadata": {},
   "source": [
    "# Hypothesis testing"
   ]
  },
  {
   "cell_type": "markdown",
   "metadata": {},
   "source": [
    "### *Explain what the p-value of a statistical test means and how it can be used to make conclusions.*"
   ]
  },
  {
   "cell_type": "markdown",
   "metadata": {},
   "source": [
    "First a null hypothesis is formed. The null hypothesis for statistical significance is usually that there is no statistical significance. Then it is assumed that the null hypothesis is true. Then the P-value is the probability of getting this result from the statistical test. A typical treshold value for P-value is 0.05. It means that if the P-value is less than 0.05, the null hypothesis can be rejected and there is evidence of statistical significance. If the P-value is greater than or equal to 0.05, definitive conclusions about the statistical significance cannot be made from the statistical test result."
   ]
  },
  {
   "cell_type": "markdown",
   "metadata": {},
   "source": [
    "### *Is there statistical evidence to claim that the travel times tend to be shorter or longer for the single than for the season ticket type?*"
   ]
  },
  {
   "cell_type": "code",
   "execution_count": 197,
   "metadata": {},
   "outputs": [],
   "source": [
    "grouped_ticket_duration = bike_data.groupby('ticket')['duration']\n",
    "duration_single = grouped_ticket_duration.get_group('single')\n",
    "duration_season = grouped_ticket_duration.get_group('season')"
   ]
  },
  {
   "cell_type": "markdown",
   "metadata": {},
   "source": [
    "The duration data is not normally ditributed based on the graph. Shapiro-Wilk test can be used to confirm it."
   ]
  },
  {
   "cell_type": "code",
   "execution_count": 198,
   "metadata": {},
   "outputs": [
    {
     "data": {
      "text/plain": [
       "ShapiroResult(statistic=0.6383874416351318, pvalue=1.314204962170101e-39)"
      ]
     },
     "execution_count": 198,
     "metadata": {},
     "output_type": "execute_result"
    }
   ],
   "source": [
    "sp.stats.shapiro(duration_single)"
   ]
  },
  {
   "cell_type": "code",
   "execution_count": 199,
   "metadata": {},
   "outputs": [
    {
     "data": {
      "text/plain": [
       "ShapiroResult(statistic=0.8857890367507935, pvalue=3.960843734540116e-25)"
      ]
     },
     "execution_count": 199,
     "metadata": {},
     "output_type": "execute_result"
    }
   ],
   "source": [
    "sp.stats.shapiro(duration_season)"
   ]
  },
  {
   "cell_type": "markdown",
   "metadata": {},
   "source": [
    "The P-values are very low which indicates that the data is not normally distributed."
   ]
  },
  {
   "cell_type": "markdown",
   "metadata": {},
   "source": [
    "Comparing mean values."
   ]
  },
  {
   "cell_type": "code",
   "execution_count": 200,
   "metadata": {},
   "outputs": [
    {
     "data": {
      "text/plain": [
       "559.8312710911136"
      ]
     },
     "execution_count": 200,
     "metadata": {},
     "output_type": "execute_result"
    }
   ],
   "source": [
    "duration_single.mean()"
   ]
  },
  {
   "cell_type": "code",
   "execution_count": 201,
   "metadata": {},
   "outputs": [
    {
     "data": {
      "text/plain": [
       "514.7178051511759"
      ]
     },
     "execution_count": 201,
     "metadata": {},
     "output_type": "execute_result"
    }
   ],
   "source": [
    "duration_season.mean()"
   ]
  },
  {
   "cell_type": "code",
   "execution_count": 202,
   "metadata": {},
   "outputs": [
    {
     "data": {
      "text/plain": [
       "1.0876469892598484"
      ]
     },
     "execution_count": 202,
     "metadata": {},
     "output_type": "execute_result"
    }
   ],
   "source": [
    "duration_single.mean() / duration_season.mean()"
   ]
  },
  {
   "cell_type": "markdown",
   "metadata": {},
   "source": [
    "Single ticket mean value is 9% greater than than season mean value."
   ]
  },
  {
   "cell_type": "markdown",
   "metadata": {},
   "source": [
    "Because the data is not normally distributed and samples are independent, Mann-Whitney *U* test can be used to determine if there is statistical evidence of one group's values being larger than the other's. Null hypothesis is that the groups are identical."
   ]
  },
  {
   "cell_type": "code",
   "execution_count": 203,
   "metadata": {},
   "outputs": [
    {
     "data": {
      "text/plain": [
       "MannwhitneyuResult(statistic=387090.5, pvalue=0.3645632872998459)"
      ]
     },
     "execution_count": 203,
     "metadata": {},
     "output_type": "execute_result"
    }
   ],
   "source": [
    "sp.stats.mannwhitneyu(duration_single, duration_season)"
   ]
  },
  {
   "cell_type": "markdown",
   "metadata": {},
   "source": [
    "#### Conclusion\n",
    "\n",
    "The P-value is greater than 0.05 which means that the null hypothesis cannot be rejected and the groups might be identical. There is no statistical evidence that travel times end to be shorter or longer for the single than for the season ticket type."
   ]
  },
  {
   "cell_type": "markdown",
   "metadata": {},
   "source": [
    "### *Is there statistical evidence to claim that the single and savonia ticket types differ with respect to how often the electric assistance is used?*"
   ]
  },
  {
   "cell_type": "markdown",
   "metadata": {},
   "source": [
    "Pearson's chi-squared test for statistical independence can be used because the variables are categorical. The test determines whether two categorical variables are related. In this case the relation between ticket type and electric assistance. Null hypothesis is that ticket type and assistance are not related."
   ]
  },
  {
   "cell_type": "code",
   "execution_count": 204,
   "metadata": {},
   "outputs": [],
   "source": [
    "grouped_ticket_assistance = bike_data.groupby('ticket')['assistance']\n",
    "assistance_single = grouped_ticket_assistance.get_group('single').value_counts()\n",
    "assistance_savonia = grouped_ticket_assistance.get_group('savonia').value_counts()"
   ]
  },
  {
   "cell_type": "code",
   "execution_count": 205,
   "metadata": {},
   "outputs": [
    {
     "data": {
      "text/html": [
       "<div>\n",
       "<style scoped>\n",
       "    .dataframe tbody tr th:only-of-type {\n",
       "        vertical-align: middle;\n",
       "    }\n",
       "\n",
       "    .dataframe tbody tr th {\n",
       "        vertical-align: top;\n",
       "    }\n",
       "\n",
       "    .dataframe thead th {\n",
       "        text-align: right;\n",
       "    }\n",
       "</style>\n",
       "<table border=\"1\" class=\"dataframe\">\n",
       "  <thead>\n",
       "    <tr style=\"text-align: right;\">\n",
       "      <th></th>\n",
       "      <th>1</th>\n",
       "      <th>0</th>\n",
       "    </tr>\n",
       "  </thead>\n",
       "  <tbody>\n",
       "    <tr>\n",
       "      <th>single</th>\n",
       "      <td>698</td>\n",
       "      <td>191</td>\n",
       "    </tr>\n",
       "    <tr>\n",
       "      <th>savonia</th>\n",
       "      <td>209</td>\n",
       "      <td>9</td>\n",
       "    </tr>\n",
       "  </tbody>\n",
       "</table>\n",
       "</div>"
      ],
      "text/plain": [
       "           1    0\n",
       "single   698  191\n",
       "savonia  209    9"
      ]
     },
     "execution_count": 205,
     "metadata": {},
     "output_type": "execute_result"
    }
   ],
   "source": [
    "cont_table = pd.DataFrame([assistance_single, assistance_savonia], index=['single', 'savonia'])\n",
    "cont_table"
   ]
  },
  {
   "cell_type": "code",
   "execution_count": 206,
   "metadata": {},
   "outputs": [
    {
     "name": "stdout",
     "output_type": "stream",
     "text": [
      "P-value: 4.3404376688598015e-09\n"
     ]
    }
   ],
   "source": [
    "print('P-value: ' +  str(sp.stats.chi2_contingency(cont_table)[1]))"
   ]
  },
  {
   "cell_type": "markdown",
   "metadata": {},
   "source": [
    "#### Conclusion\n",
    "\n",
    "The P-value is less than 0.05 and very low which means that the null hypothesis can be rejected. There is statistical evidence that the single and savonia ticket types differ with respect to how often the electric assistance is used."
   ]
  },
  {
   "cell_type": "markdown",
   "metadata": {},
   "source": [
    "### *Is there statistical evidence to claim that the travel distances tend to be shorter or longer during one month than during the others?*"
   ]
  },
  {
   "cell_type": "markdown",
   "metadata": {},
   "source": [
    "Testing for normality with Shapiro-Wilk test."
   ]
  },
  {
   "cell_type": "code",
   "execution_count": 207,
   "metadata": {},
   "outputs": [
    {
     "name": "stdout",
     "output_type": "stream",
     "text": [
      "ShapiroResult(statistic=0.897064745426178, pvalue=0.006093836855143309)\n",
      "ShapiroResult(statistic=0.7974337935447693, pvalue=8.720789008676097e-18)\n",
      "ShapiroResult(statistic=0.7381541728973389, pvalue=4.7942015717152836e-24)\n",
      "ShapiroResult(statistic=0.7458085417747498, pvalue=6.999988670697112e-22)\n",
      "ShapiroResult(statistic=0.8736541271209717, pvalue=5.750142029192773e-11)\n",
      "ShapiroResult(statistic=0.7975080013275146, pvalue=1.854974890613928e-16)\n",
      "ShapiroResult(statistic=0.9349409341812134, pvalue=4.709424956672592e-07)\n"
     ]
    }
   ],
   "source": [
    "grouped_month_distance = bike_data.groupby('month')['distance']\n",
    "for name, group in grouped_month_distance:\n",
    "    print(sp.stats.shapiro(grouped_month_distance.get_group(name).dropna()))"
   ]
  },
  {
   "cell_type": "markdown",
   "metadata": {},
   "source": [
    "P-values are less than 0.05. Distance values are not normally distributed."
   ]
  },
  {
   "cell_type": "code",
   "execution_count": 208,
   "metadata": {},
   "outputs": [
    {
     "data": {
      "text/html": [
       "<div>\n",
       "<style scoped>\n",
       "    .dataframe tbody tr th:only-of-type {\n",
       "        vertical-align: middle;\n",
       "    }\n",
       "\n",
       "    .dataframe tbody tr th {\n",
       "        vertical-align: top;\n",
       "    }\n",
       "\n",
       "    .dataframe thead th {\n",
       "        text-align: right;\n",
       "    }\n",
       "</style>\n",
       "<table border=\"1\" class=\"dataframe\">\n",
       "  <thead>\n",
       "    <tr style=\"text-align: right;\">\n",
       "      <th></th>\n",
       "      <th>count</th>\n",
       "      <th>mean</th>\n",
       "      <th>std</th>\n",
       "      <th>min</th>\n",
       "      <th>25%</th>\n",
       "      <th>50%</th>\n",
       "      <th>75%</th>\n",
       "      <th>max</th>\n",
       "    </tr>\n",
       "    <tr>\n",
       "      <th>month</th>\n",
       "      <th></th>\n",
       "      <th></th>\n",
       "      <th></th>\n",
       "      <th></th>\n",
       "      <th></th>\n",
       "      <th></th>\n",
       "      <th></th>\n",
       "      <th></th>\n",
       "    </tr>\n",
       "  </thead>\n",
       "  <tbody>\n",
       "    <tr>\n",
       "      <th>4</th>\n",
       "      <td>31.0</td>\n",
       "      <td>2305.806452</td>\n",
       "      <td>1747.279360</td>\n",
       "      <td>10.0</td>\n",
       "      <td>750.0</td>\n",
       "      <td>2350.0</td>\n",
       "      <td>3100.0</td>\n",
       "      <td>8370.0</td>\n",
       "    </tr>\n",
       "    <tr>\n",
       "      <th>5</th>\n",
       "      <td>263.0</td>\n",
       "      <td>1967.756654</td>\n",
       "      <td>1894.757307</td>\n",
       "      <td>10.0</td>\n",
       "      <td>730.0</td>\n",
       "      <td>1500.0</td>\n",
       "      <td>2660.0</td>\n",
       "      <td>12430.0</td>\n",
       "    </tr>\n",
       "    <tr>\n",
       "      <th>6</th>\n",
       "      <td>380.0</td>\n",
       "      <td>2291.526316</td>\n",
       "      <td>2355.667569</td>\n",
       "      <td>10.0</td>\n",
       "      <td>930.0</td>\n",
       "      <td>1595.0</td>\n",
       "      <td>2727.5</td>\n",
       "      <td>18690.0</td>\n",
       "    </tr>\n",
       "    <tr>\n",
       "      <th>7</th>\n",
       "      <td>321.0</td>\n",
       "      <td>2078.504673</td>\n",
       "      <td>2059.616076</td>\n",
       "      <td>10.0</td>\n",
       "      <td>910.0</td>\n",
       "      <td>1510.0</td>\n",
       "      <td>2680.0</td>\n",
       "      <td>19740.0</td>\n",
       "    </tr>\n",
       "    <tr>\n",
       "      <th>8</th>\n",
       "      <td>175.0</td>\n",
       "      <td>2418.571429</td>\n",
       "      <td>1904.098639</td>\n",
       "      <td>10.0</td>\n",
       "      <td>1055.0</td>\n",
       "      <td>2050.0</td>\n",
       "      <td>3150.0</td>\n",
       "      <td>10800.0</td>\n",
       "    </tr>\n",
       "    <tr>\n",
       "      <th>9</th>\n",
       "      <td>227.0</td>\n",
       "      <td>2424.449339</td>\n",
       "      <td>2056.064854</td>\n",
       "      <td>10.0</td>\n",
       "      <td>950.0</td>\n",
       "      <td>1900.0</td>\n",
       "      <td>3105.0</td>\n",
       "      <td>16440.0</td>\n",
       "    </tr>\n",
       "    <tr>\n",
       "      <th>10</th>\n",
       "      <td>173.0</td>\n",
       "      <td>2042.427746</td>\n",
       "      <td>1416.316013</td>\n",
       "      <td>10.0</td>\n",
       "      <td>930.0</td>\n",
       "      <td>1870.0</td>\n",
       "      <td>2990.0</td>\n",
       "      <td>8110.0</td>\n",
       "    </tr>\n",
       "  </tbody>\n",
       "</table>\n",
       "</div>"
      ],
      "text/plain": [
       "       count         mean          std   min     25%     50%     75%      max\n",
       "month                                                                        \n",
       "4       31.0  2305.806452  1747.279360  10.0   750.0  2350.0  3100.0   8370.0\n",
       "5      263.0  1967.756654  1894.757307  10.0   730.0  1500.0  2660.0  12430.0\n",
       "6      380.0  2291.526316  2355.667569  10.0   930.0  1595.0  2727.5  18690.0\n",
       "7      321.0  2078.504673  2059.616076  10.0   910.0  1510.0  2680.0  19740.0\n",
       "8      175.0  2418.571429  1904.098639  10.0  1055.0  2050.0  3150.0  10800.0\n",
       "9      227.0  2424.449339  2056.064854  10.0   950.0  1900.0  3105.0  16440.0\n",
       "10     173.0  2042.427746  1416.316013  10.0   930.0  1870.0  2990.0   8110.0"
      ]
     },
     "execution_count": 208,
     "metadata": {},
     "output_type": "execute_result"
    }
   ],
   "source": [
    "grouped_month_distance.describe()"
   ]
  },
  {
   "cell_type": "code",
   "execution_count": 209,
   "metadata": {},
   "outputs": [],
   "source": [
    "# Individual arrays for each month because of sp.stats.kruskal()\n",
    "apr = grouped_month_distance.get_group(4).dropna()\n",
    "may = grouped_month_distance.get_group(5).dropna()\n",
    "jun = grouped_month_distance.get_group(6).dropna()\n",
    "jul = grouped_month_distance.get_group(7).dropna()\n",
    "aug = grouped_month_distance.get_group(8).dropna()\n",
    "sep = grouped_month_distance.get_group(9).dropna()\n",
    "octb = grouped_month_distance.get_group(10).dropna()"
   ]
  },
  {
   "cell_type": "markdown",
   "metadata": {},
   "source": [
    "Kruskal-Wallis *H* test can be used to determine if there are statistically significant differences between two or more groups of an independent variable. Null hypothesis is that there is no significant differences between groups."
   ]
  },
  {
   "cell_type": "code",
   "execution_count": 210,
   "metadata": {},
   "outputs": [
    {
     "data": {
      "text/plain": [
       "KruskalResult(statistic=22.337651787668722, pvalue=0.0010515522965106534)"
      ]
     },
     "execution_count": 210,
     "metadata": {},
     "output_type": "execute_result"
    }
   ],
   "source": [
    "sp.stats.kruskal(apr, may, jun, jul, aug, sep, octb)"
   ]
  },
  {
   "cell_type": "markdown",
   "metadata": {},
   "source": [
    "#### Conclusion\n",
    "\n",
    "P-value is less than 0.05 which means the null hypothesis can be rejected. There is statistical evidence to claim that the travel distances tend to be shorter or longer during one month than during the others."
   ]
  },
  {
   "cell_type": "markdown",
   "metadata": {},
   "source": [
    "### *Is there statistical evidence to claim that the distance travelled correlates with the energy consumed when the electric assistance is enabled?*"
   ]
  },
  {
   "cell_type": "markdown",
   "metadata": {},
   "source": [
    "Spearman's rank correlation coefficient is used here rather than Pearson correlation coefficient because the graph looks more monotonic than linear and there are NaN values in the distance data. Null hypothesis is that the variables are not correlated."
   ]
  },
  {
   "cell_type": "code",
   "execution_count": 211,
   "metadata": {},
   "outputs": [
    {
     "data": {
      "text/plain": [
       "SpearmanrResult(correlation=0.9079399786435489, pvalue=0.0)"
      ]
     },
     "execution_count": 211,
     "metadata": {},
     "output_type": "execute_result"
    }
   ],
   "source": [
    "assisted = bike_data.loc[bike_data['assistance'] == 1]\n",
    "sp.stats.spearmanr(assisted['distance'], assisted['energy_used'], nan_policy='omit')"
   ]
  },
  {
   "cell_type": "markdown",
   "metadata": {},
   "source": [
    "#### Conclusion\n",
    "\n",
    "P-value is less than 0.05 and very small which menas that the null hypothesis can be rejected. There is strong statistical evidence to claim that the distance travelled correlates with the energy consumed when the electric assistance is enabled."
   ]
  },
  {
   "cell_type": "markdown",
   "metadata": {},
   "source": [
    "### *Is there statistical evidence to claim that the savonia and season ticket types differ with respect to how often the trip ends where it started?*"
   ]
  },
  {
   "cell_type": "markdown",
   "metadata": {},
   "source": [
    "Pearson's chi-squared test for statistical independence can be used because the variables are categorical. The test determines whether two categorical variables are related. In this case the relation between ticket type and the starting point and the destination being the same location. Null hypothesis is that they are not related."
   ]
  },
  {
   "cell_type": "code",
   "execution_count": 212,
   "metadata": {},
   "outputs": [],
   "source": [
    "ticket_savonia = bike_data.loc[bike_data['ticket'] == 'savonia']\n",
    "ticket_season = bike_data.loc[bike_data['ticket'] == 'season']\n",
    "\n",
    "savonia_same_locations = ticket_savonia.loc[bike_data['location_from'] == bike_data['location_to']]\n",
    "season_same_locations = ticket_season.loc[bike_data['location_from'] == bike_data['location_to']]"
   ]
  },
  {
   "cell_type": "code",
   "execution_count": 213,
   "metadata": {},
   "outputs": [
    {
     "data": {
      "text/html": [
       "<div>\n",
       "<style scoped>\n",
       "    .dataframe tbody tr th:only-of-type {\n",
       "        vertical-align: middle;\n",
       "    }\n",
       "\n",
       "    .dataframe tbody tr th {\n",
       "        vertical-align: top;\n",
       "    }\n",
       "\n",
       "    .dataframe thead th {\n",
       "        text-align: right;\n",
       "    }\n",
       "</style>\n",
       "<table border=\"1\" class=\"dataframe\">\n",
       "  <thead>\n",
       "    <tr style=\"text-align: right;\">\n",
       "      <th></th>\n",
       "      <th>same_locations</th>\n",
       "      <th>total_trips</th>\n",
       "    </tr>\n",
       "  </thead>\n",
       "  <tbody>\n",
       "    <tr>\n",
       "      <th>savonia</th>\n",
       "      <td>76</td>\n",
       "      <td>367</td>\n",
       "    </tr>\n",
       "    <tr>\n",
       "      <th>season</th>\n",
       "      <td>218</td>\n",
       "      <td>893</td>\n",
       "    </tr>\n",
       "  </tbody>\n",
       "</table>\n",
       "</div>"
      ],
      "text/plain": [
       "         same_locations  total_trips\n",
       "savonia              76          367\n",
       "season              218          893"
      ]
     },
     "execution_count": 213,
     "metadata": {},
     "output_type": "execute_result"
    }
   ],
   "source": [
    "cont_table_location = pd.DataFrame([[len(savonia_same_locations.index), len(season_same_locations.index)], \\\n",
    "                                    [len(ticket_savonia.index), len(ticket_season.index)]],\\\n",
    "                                    index=['savonia', 'season'], \\\n",
    "                                    columns=['same_locations', 'total_trips'])\n",
    "cont_table_location"
   ]
  },
  {
   "cell_type": "markdown",
   "metadata": {},
   "source": [
    "Calculating ratios of trips starting and ending at the same location for both ticket types."
   ]
  },
  {
   "cell_type": "code",
   "execution_count": 214,
   "metadata": {},
   "outputs": [
    {
     "data": {
      "text/plain": [
       "savonia    0.207084\n",
       "season     0.244121\n",
       "dtype: float64"
      ]
     },
     "execution_count": 214,
     "metadata": {},
     "output_type": "execute_result"
    }
   ],
   "source": [
    "cont_table_location['same_locations'] / cont_table_location['total_trips']"
   ]
  },
  {
   "cell_type": "markdown",
   "metadata": {},
   "source": [
    "A difference of 0.04. \n",
    "\n",
    "Pearson's chi-squared test:"
   ]
  },
  {
   "cell_type": "code",
   "execution_count": 215,
   "metadata": {},
   "outputs": [
    {
     "name": "stdout",
     "output_type": "stream",
     "text": [
      "P-value: 0.2942350943012959\n"
     ]
    }
   ],
   "source": [
    "print('P-value: ' +  str(sp.stats.chi2_contingency(cont_table_location)[1]))"
   ]
  },
  {
   "cell_type": "markdown",
   "metadata": {},
   "source": [
    "### Conclusion\n",
    "\n",
    "P-value is greater than 0.05 which means that the null hypothesis cannot be rejected. There is no statistical evidence to claim that the savonia and season ticket types differ with respect to how often the trip ends where it started"
   ]
  },
  {
   "cell_type": "markdown",
   "metadata": {},
   "source": [
    "### *Is there statistical evidence to claim that the travel time correlates with the average speed at which the trip is made?*"
   ]
  },
  {
   "cell_type": "markdown",
   "metadata": {},
   "source": [
    "Both Pearson correlation coefficient and Spearman correlation coefficient can be used. Null hypothesis is that the data is not correlated."
   ]
  },
  {
   "cell_type": "markdown",
   "metadata": {},
   "source": [
    "Convert NaN values back to zero."
   ]
  },
  {
   "cell_type": "code",
   "execution_count": 216,
   "metadata": {},
   "outputs": [],
   "source": [
    "distance_zeros = bike_data['distance'].replace(np.nan, 0)"
   ]
  },
  {
   "cell_type": "markdown",
   "metadata": {},
   "source": [
    "Calculating average speeds."
   ]
  },
  {
   "cell_type": "code",
   "execution_count": 217,
   "metadata": {},
   "outputs": [],
   "source": [
    "avg_speed = distance_zeros / bike_data['duration']"
   ]
  },
  {
   "cell_type": "markdown",
   "metadata": {},
   "source": [
    "Pearson correlation coefficient:"
   ]
  },
  {
   "cell_type": "code",
   "execution_count": 218,
   "metadata": {},
   "outputs": [
    {
     "data": {
      "text/plain": [
       "PearsonRResult(statistic=0.6012011589514767, pvalue=7.358154606080721e-197)"
      ]
     },
     "execution_count": 218,
     "metadata": {},
     "output_type": "execute_result"
    }
   ],
   "source": [
    "sp.stats.pearsonr(distance_zeros, avg_speed)"
   ]
  },
  {
   "cell_type": "markdown",
   "metadata": {},
   "source": [
    "Spearman correlation coefficient:"
   ]
  },
  {
   "cell_type": "code",
   "execution_count": 219,
   "metadata": {},
   "outputs": [
    {
     "data": {
      "text/plain": [
       "SpearmanrResult(correlation=0.7759526634610828, pvalue=0.0)"
      ]
     },
     "execution_count": 219,
     "metadata": {},
     "output_type": "execute_result"
    }
   ],
   "source": [
    "sp.stats.spearmanr(distance_zeros, avg_speed)"
   ]
  },
  {
   "cell_type": "markdown",
   "metadata": {},
   "source": [
    "### Conclusion\n",
    "\n",
    "P-value of both tests is less than 0.05 and very low which means null hypothesis can be rejected. There is there statistical evidence to claim that the travel time correlates with the average speed at which the trip is made."
   ]
  }
 ],
 "metadata": {
  "kernelspec": {
   "display_name": "Python 3.10.7 64-bit",
   "language": "python",
   "name": "python3"
  },
  "language_info": {
   "codemirror_mode": {
    "name": "ipython",
    "version": 3
   },
   "file_extension": ".py",
   "mimetype": "text/x-python",
   "name": "python",
   "nbconvert_exporter": "python",
   "pygments_lexer": "ipython3",
   "version": "3.10.8"
  },
  "orig_nbformat": 4,
  "vscode": {
   "interpreter": {
    "hash": "e7370f93d1d0cde622a1f8e1c04877d8463912d04d973331ad4851f04de6915a"
   }
  }
 },
 "nbformat": 4,
 "nbformat_minor": 2
}
